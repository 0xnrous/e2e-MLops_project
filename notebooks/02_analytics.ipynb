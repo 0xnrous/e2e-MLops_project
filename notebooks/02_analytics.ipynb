{
 "cells": [
  {
   "cell_type": "markdown",
   "metadata": {},
   "source": [
    "# **Analytics**"
   ]
  },
  {
   "cell_type": "markdown",
   "metadata": {},
   "source": [
    "----------"
   ]
  },
  {
   "cell_type": "code",
   "execution_count": 15,
   "metadata": {},
   "outputs": [],
   "source": [
    "DF_PATH = \"../data/processed/1_preprocessed_df.pkl\"\n",
    "ROLES_PATH = \"../data/raw/roles_short_names.csv\"\n",
    "FIG_DIR = \"../reports/figures\"\n",
    "\n",
    "NA_STRING = \"Not Specified\"\n",
    "TRANSPARENT_STRING = 'rbga(0,0,0,0)'\n",
    "\n",
    "ROLES_COLS = ['DevType']\n",
    "TECH_COLS = ['LanguageHaveWorkedWith',\n",
    "             'LanguageWantToWorkWith', \n",
    "             'DatabaseHaveWorkedWith',\n",
    "             'PlatformHaveWorkedWith',\n",
    "             'PlatformWantToWorkWith',\n",
    "             'WebframeHaveWorkedWith', \n",
    "             'WebframeWantToWorkWith',\n",
    "             'MiscTechHaveWorkedWith',\n",
    "             'MiscTechWantToWorkWith',\n",
    "             'ToolsTechHaveWorkedWith', \n",
    "             'ToolsTechWantToWorkWith',\n",
    "             \"NEWCollabToolsHaveWorkedWith\",\n",
    "             \"NEWCollabToolsWantToWorkWith\"]"
   ]
  },
  {
   "cell_type": "markdown",
   "metadata": {},
   "source": [
    "------------"
   ]
  },
  {
   "cell_type": "markdown",
   "metadata": {},
   "source": [
    "## Load Data"
   ]
  },
  {
   "cell_type": "code",
   "execution_count": 16,
   "metadata": {},
   "outputs": [],
   "source": [
    "# Libraries \n",
    "import pandas as pd \n",
    "import numpy as np \n",
    "import logging\n",
    "import pickle \n",
    "import os \n",
    "\n",
    "# Visualisation Libraries\n",
    "import plotly.graph_objects as go \n",
    "from plotly.subplots import make_subplots\n",
    "import plotly.express as px\n",
    "import plotly.figure_factory as ff\n",
    "from matplotlib import pyplot as plt\n",
    "\n",
    "# Analysis & preproccessing Libraries\n",
    "from sklearn.manifold import TSNE\n",
    "from sklearn.preprocessing import MultiLabelBinarizer , StandardScaler , RobustScaler , MinMaxScaler\n",
    "from sklearn.cluster import AgglomerativeClustering\n",
    "from sklearn.pipeline import make_pipeline\n",
    "from scipy.cluster.hierarchy import dendrogram , fcluster , linkage"
   ]
  },
  {
   "cell_type": "markdown",
   "metadata": {},
   "source": [
    "------------"
   ]
  },
  {
   "cell_type": "markdown",
   "metadata": {},
   "source": [
    "## Reading Data"
   ]
  },
  {
   "cell_type": "code",
   "execution_count": 17,
   "metadata": {},
   "outputs": [],
   "source": [
    "raw_df = pd.read_pickle(DF_PATH)\n",
    "roles_names = pd.read_csv(ROLES_PATH , sep=\";\")"
   ]
  },
  {
   "cell_type": "code",
   "execution_count": 18,
   "metadata": {},
   "outputs": [
    {
     "data": {
      "text/html": [
       "<div>\n",
       "<style scoped>\n",
       "    .dataframe tbody tr th:only-of-type {\n",
       "        vertical-align: middle;\n",
       "    }\n",
       "\n",
       "    .dataframe tbody tr th {\n",
       "        vertical-align: top;\n",
       "    }\n",
       "\n",
       "    .dataframe thead th {\n",
       "        text-align: right;\n",
       "    }\n",
       "</style>\n",
       "<table border=\"1\" class=\"dataframe\">\n",
       "  <thead>\n",
       "    <tr style=\"text-align: right;\">\n",
       "      <th></th>\n",
       "      <th>ResponseId</th>\n",
       "      <th>MainBranch</th>\n",
       "      <th>Employment</th>\n",
       "      <th>Country</th>\n",
       "      <th>US_State</th>\n",
       "      <th>UK_Country</th>\n",
       "      <th>EdLevel</th>\n",
       "      <th>Age1stCode</th>\n",
       "      <th>LearnCode</th>\n",
       "      <th>YearsCode</th>\n",
       "      <th>...</th>\n",
       "      <th>Age</th>\n",
       "      <th>Gender</th>\n",
       "      <th>Trans</th>\n",
       "      <th>Sexuality</th>\n",
       "      <th>Ethnicity</th>\n",
       "      <th>Accessibility</th>\n",
       "      <th>MentalHealth</th>\n",
       "      <th>SurveyLength</th>\n",
       "      <th>SurveyEase</th>\n",
       "      <th>ConvertedCompYearly</th>\n",
       "    </tr>\n",
       "  </thead>\n",
       "  <tbody>\n",
       "    <tr>\n",
       "      <th>14723</th>\n",
       "      <td>14724</td>\n",
       "      <td>I am a developer by profession</td>\n",
       "      <td>Employed full-time</td>\n",
       "      <td>India</td>\n",
       "      <td>NaN</td>\n",
       "      <td>NaN</td>\n",
       "      <td>Bachelor’s degree (B.A., B.S., B.Eng., etc.)</td>\n",
       "      <td>18 - 24 years</td>\n",
       "      <td>[Other online resources (ex: videos, blogs, et...</td>\n",
       "      <td>4.0</td>\n",
       "      <td>...</td>\n",
       "      <td>18-24 years old</td>\n",
       "      <td>[Man]</td>\n",
       "      <td>No</td>\n",
       "      <td>[]</td>\n",
       "      <td>[I don't know]</td>\n",
       "      <td>[None of the above]</td>\n",
       "      <td>[None of the above]</td>\n",
       "      <td>Too long</td>\n",
       "      <td>Easy</td>\n",
       "      <td>134028.0</td>\n",
       "    </tr>\n",
       "    <tr>\n",
       "      <th>19963</th>\n",
       "      <td>19964</td>\n",
       "      <td>I am a developer by profession</td>\n",
       "      <td>Employed full-time</td>\n",
       "      <td>Canada</td>\n",
       "      <td>NaN</td>\n",
       "      <td>NaN</td>\n",
       "      <td>Bachelor’s degree (B.A., B.S., B.Eng., etc.)</td>\n",
       "      <td>18 - 24 years</td>\n",
       "      <td>[School]</td>\n",
       "      <td>10.0</td>\n",
       "      <td>...</td>\n",
       "      <td>25-34 years old</td>\n",
       "      <td>[Man]</td>\n",
       "      <td>No</td>\n",
       "      <td>[Straight / Heterosexual]</td>\n",
       "      <td>[White or of European descent]</td>\n",
       "      <td>[None of the above]</td>\n",
       "      <td>[None of the above]</td>\n",
       "      <td>Appropriate in length</td>\n",
       "      <td>Easy</td>\n",
       "      <td>60505.0</td>\n",
       "    </tr>\n",
       "    <tr>\n",
       "      <th>43259</th>\n",
       "      <td>43260</td>\n",
       "      <td>I am a developer by profession</td>\n",
       "      <td>Student, part-time</td>\n",
       "      <td>Italy</td>\n",
       "      <td>NaN</td>\n",
       "      <td>NaN</td>\n",
       "      <td>Something else</td>\n",
       "      <td>11 - 17 years</td>\n",
       "      <td>[School]</td>\n",
       "      <td>7.0</td>\n",
       "      <td>...</td>\n",
       "      <td>18-24 years old</td>\n",
       "      <td>[Man]</td>\n",
       "      <td>No</td>\n",
       "      <td>[Straight / Heterosexual]</td>\n",
       "      <td>[White or of European descent]</td>\n",
       "      <td>[None of the above]</td>\n",
       "      <td>[None of the above]</td>\n",
       "      <td>Appropriate in length</td>\n",
       "      <td>Easy</td>\n",
       "      <td>NaN</td>\n",
       "    </tr>\n",
       "    <tr>\n",
       "      <th>75656</th>\n",
       "      <td>75657</td>\n",
       "      <td>I am a student who is learning to code</td>\n",
       "      <td>Student, full-time</td>\n",
       "      <td>China</td>\n",
       "      <td>NaN</td>\n",
       "      <td>NaN</td>\n",
       "      <td>Bachelor’s degree (B.A., B.S., B.Eng., etc.)</td>\n",
       "      <td>18 - 24 years</td>\n",
       "      <td>[School]</td>\n",
       "      <td>3.0</td>\n",
       "      <td>...</td>\n",
       "      <td>18-24 years old</td>\n",
       "      <td>[Man]</td>\n",
       "      <td>No</td>\n",
       "      <td>[Bisexual]</td>\n",
       "      <td>[East Asian]</td>\n",
       "      <td>[None of the above]</td>\n",
       "      <td>[None of the above]</td>\n",
       "      <td>Too long</td>\n",
       "      <td>Neither easy nor difficult</td>\n",
       "      <td>NaN</td>\n",
       "    </tr>\n",
       "  </tbody>\n",
       "</table>\n",
       "<p>4 rows × 48 columns</p>\n",
       "</div>"
      ],
      "text/plain": [
       "       ResponseId                              MainBranch          Employment  \\\n",
       "14723       14724          I am a developer by profession  Employed full-time   \n",
       "19963       19964          I am a developer by profession  Employed full-time   \n",
       "43259       43260          I am a developer by profession  Student, part-time   \n",
       "75656       75657  I am a student who is learning to code  Student, full-time   \n",
       "\n",
       "      Country US_State UK_Country  \\\n",
       "14723   India      NaN        NaN   \n",
       "19963  Canada      NaN        NaN   \n",
       "43259   Italy      NaN        NaN   \n",
       "75656   China      NaN        NaN   \n",
       "\n",
       "                                            EdLevel     Age1stCode  \\\n",
       "14723  Bachelor’s degree (B.A., B.S., B.Eng., etc.)  18 - 24 years   \n",
       "19963  Bachelor’s degree (B.A., B.S., B.Eng., etc.)  18 - 24 years   \n",
       "43259                                Something else  11 - 17 years   \n",
       "75656  Bachelor’s degree (B.A., B.S., B.Eng., etc.)  18 - 24 years   \n",
       "\n",
       "                                               LearnCode  YearsCode  ...  \\\n",
       "14723  [Other online resources (ex: videos, blogs, et...        4.0  ...   \n",
       "19963                                           [School]       10.0  ...   \n",
       "43259                                           [School]        7.0  ...   \n",
       "75656                                           [School]        3.0  ...   \n",
       "\n",
       "                   Age Gender Trans                  Sexuality  \\\n",
       "14723  18-24 years old  [Man]    No                         []   \n",
       "19963  25-34 years old  [Man]    No  [Straight / Heterosexual]   \n",
       "43259  18-24 years old  [Man]    No  [Straight / Heterosexual]   \n",
       "75656  18-24 years old  [Man]    No                 [Bisexual]   \n",
       "\n",
       "                            Ethnicity        Accessibility  \\\n",
       "14723                  [I don't know]  [None of the above]   \n",
       "19963  [White or of European descent]  [None of the above]   \n",
       "43259  [White or of European descent]  [None of the above]   \n",
       "75656                    [East Asian]  [None of the above]   \n",
       "\n",
       "              MentalHealth           SurveyLength                  SurveyEase  \\\n",
       "14723  [None of the above]               Too long                        Easy   \n",
       "19963  [None of the above]  Appropriate in length                        Easy   \n",
       "43259  [None of the above]  Appropriate in length                        Easy   \n",
       "75656  [None of the above]               Too long  Neither easy nor difficult   \n",
       "\n",
       "      ConvertedCompYearly  \n",
       "14723            134028.0  \n",
       "19963             60505.0  \n",
       "43259                 NaN  \n",
       "75656                 NaN  \n",
       "\n",
       "[4 rows x 48 columns]"
      ]
     },
     "execution_count": 18,
     "metadata": {},
     "output_type": "execute_result"
    }
   ],
   "source": [
    "df = raw_df.copy()\n",
    "# checking the dataframe    \n",
    "df.sample(4)"
   ]
  },
  {
   "cell_type": "code",
   "execution_count": 19,
   "metadata": {},
   "outputs": [
    {
     "data": {
      "text/html": [
       "<div>\n",
       "<style scoped>\n",
       "    .dataframe tbody tr th:only-of-type {\n",
       "        vertical-align: middle;\n",
       "    }\n",
       "\n",
       "    .dataframe tbody tr th {\n",
       "        vertical-align: top;\n",
       "    }\n",
       "\n",
       "    .dataframe thead th {\n",
       "        text-align: right;\n",
       "    }\n",
       "</style>\n",
       "<table border=\"1\" class=\"dataframe\">\n",
       "  <thead>\n",
       "    <tr style=\"text-align: right;\">\n",
       "      <th></th>\n",
       "      <th>Original name</th>\n",
       "      <th>Short name</th>\n",
       "    </tr>\n",
       "  </thead>\n",
       "  <tbody>\n",
       "    <tr>\n",
       "      <th>0</th>\n",
       "      <td>Developer, back-end</td>\n",
       "      <td>Back-end dev</td>\n",
       "    </tr>\n",
       "    <tr>\n",
       "      <th>1</th>\n",
       "      <td>Developer, full-stack</td>\n",
       "      <td>Full-stack dev</td>\n",
       "    </tr>\n",
       "    <tr>\n",
       "      <th>2</th>\n",
       "      <td>Developer, front-end</td>\n",
       "      <td>Front-end dev</td>\n",
       "    </tr>\n",
       "    <tr>\n",
       "      <th>3</th>\n",
       "      <td>Developer, desktop or enterprise applications</td>\n",
       "      <td>Desktop dev</td>\n",
       "    </tr>\n",
       "    <tr>\n",
       "      <th>4</th>\n",
       "      <td>Developer, mobile</td>\n",
       "      <td>Mobile dev</td>\n",
       "    </tr>\n",
       "    <tr>\n",
       "      <th>5</th>\n",
       "      <td>DevOps specialist</td>\n",
       "      <td>DevOps</td>\n",
       "    </tr>\n",
       "    <tr>\n",
       "      <th>6</th>\n",
       "      <td>Database administrator</td>\n",
       "      <td>Database admin</td>\n",
       "    </tr>\n",
       "    <tr>\n",
       "      <th>7</th>\n",
       "      <td>Designer</td>\n",
       "      <td>Designer</td>\n",
       "    </tr>\n",
       "    <tr>\n",
       "      <th>8</th>\n",
       "      <td>System administrator</td>\n",
       "      <td>System admin</td>\n",
       "    </tr>\n",
       "    <tr>\n",
       "      <th>9</th>\n",
       "      <td>Developer, embedded applications or devices</td>\n",
       "      <td>Embedded dev</td>\n",
       "    </tr>\n",
       "    <tr>\n",
       "      <th>10</th>\n",
       "      <td>Data or business analyst</td>\n",
       "      <td>Analyst</td>\n",
       "    </tr>\n",
       "    <tr>\n",
       "      <th>11</th>\n",
       "      <td>Data scientist or machine learning specialist</td>\n",
       "      <td>Data Scientist</td>\n",
       "    </tr>\n",
       "    <tr>\n",
       "      <th>12</th>\n",
       "      <td>Developer, QA or test</td>\n",
       "      <td>Quality Assurance</td>\n",
       "    </tr>\n",
       "    <tr>\n",
       "      <th>13</th>\n",
       "      <td>Engineer, data</td>\n",
       "      <td>Data Engineer</td>\n",
       "    </tr>\n",
       "    <tr>\n",
       "      <th>14</th>\n",
       "      <td>Academic researcher</td>\n",
       "      <td>Researcher</td>\n",
       "    </tr>\n",
       "    <tr>\n",
       "      <th>15</th>\n",
       "      <td>Educator</td>\n",
       "      <td>Educator</td>\n",
       "    </tr>\n",
       "    <tr>\n",
       "      <th>16</th>\n",
       "      <td>Developer, game or graphics</td>\n",
       "      <td>Game dev</td>\n",
       "    </tr>\n",
       "    <tr>\n",
       "      <th>17</th>\n",
       "      <td>Engineering manager</td>\n",
       "      <td>Engineering manager</td>\n",
       "    </tr>\n",
       "    <tr>\n",
       "      <th>18</th>\n",
       "      <td>Product manager</td>\n",
       "      <td>Product manager</td>\n",
       "    </tr>\n",
       "    <tr>\n",
       "      <th>19</th>\n",
       "      <td>Scientist</td>\n",
       "      <td>Scientist</td>\n",
       "    </tr>\n",
       "    <tr>\n",
       "      <th>20</th>\n",
       "      <td>Engineer, site reliability</td>\n",
       "      <td>Site Engineer</td>\n",
       "    </tr>\n",
       "    <tr>\n",
       "      <th>21</th>\n",
       "      <td>Senior Executive (C-Suite, VP, etc.)</td>\n",
       "      <td>Senior Executive</td>\n",
       "    </tr>\n",
       "    <tr>\n",
       "      <th>22</th>\n",
       "      <td>Marketing or sales professional</td>\n",
       "      <td>Marketing/Sales</td>\n",
       "    </tr>\n",
       "    <tr>\n",
       "      <th>23</th>\n",
       "      <td>Student</td>\n",
       "      <td>Student</td>\n",
       "    </tr>\n",
       "    <tr>\n",
       "      <th>24</th>\n",
       "      <td>Other (please specify):</td>\n",
       "      <td>Other</td>\n",
       "    </tr>\n",
       "  </tbody>\n",
       "</table>\n",
       "</div>"
      ],
      "text/plain": [
       "                                    Original name          Short name \n",
       "0                             Developer, back-end         Back-end dev\n",
       "1                           Developer, full-stack       Full-stack dev\n",
       "2                            Developer, front-end        Front-end dev\n",
       "3   Developer, desktop or enterprise applications          Desktop dev\n",
       "4                               Developer, mobile           Mobile dev\n",
       "5                               DevOps specialist               DevOps\n",
       "6                          Database administrator       Database admin\n",
       "7                                        Designer             Designer\n",
       "8                            System administrator         System admin\n",
       "9     Developer, embedded applications or devices         Embedded dev\n",
       "10                       Data or business analyst              Analyst\n",
       "11  Data scientist or machine learning specialist      Data Scientist \n",
       "12                          Developer, QA or test    Quality Assurance\n",
       "13                                 Engineer, data        Data Engineer\n",
       "14                            Academic researcher           Researcher\n",
       "15                                       Educator             Educator\n",
       "16                    Developer, game or graphics             Game dev\n",
       "17                            Engineering manager  Engineering manager\n",
       "18                                Product manager      Product manager\n",
       "19                                      Scientist            Scientist\n",
       "20                     Engineer, site reliability        Site Engineer\n",
       "21           Senior Executive (C-Suite, VP, etc.)     Senior Executive\n",
       "22                Marketing or sales professional      Marketing/Sales\n",
       "23                                        Student              Student\n",
       "24                        Other (please specify):                Other"
      ]
     },
     "execution_count": 19,
     "metadata": {},
     "output_type": "execute_result"
    }
   ],
   "source": [
    "# Take a look at the roles names\n",
    "roles_names"
   ]
  },
  {
   "cell_type": "markdown",
   "metadata": {},
   "source": [
    "------------"
   ]
  },
  {
   "cell_type": "markdown",
   "metadata": {},
   "source": [
    "## One hot encoding "
   ]
  },
  {
   "cell_type": "code",
   "execution_count": 20,
   "metadata": {},
   "outputs": [],
   "source": [
    "encoded_dfs = {}\n",
    "for col in ROLES_COLS + TECH_COLS:\n",
    "    binarizer = MultiLabelBinarizer()\n",
    "    encoded_df = pd.DataFrame(binarizer.fit_transform(df[col]), \n",
    "                              columns = binarizer.classes_ , \n",
    "                              index = df[col].index)\n",
    "    encoded_dfs[col] = encoded_df"
   ]
  },
  {
   "cell_type": "code",
   "execution_count": 26,
   "metadata": {},
   "outputs": [
    {
     "data": {
      "text/html": [
       "<div>\n",
       "<style scoped>\n",
       "    .dataframe tbody tr th:only-of-type {\n",
       "        vertical-align: middle;\n",
       "    }\n",
       "\n",
       "    .dataframe tbody tr th {\n",
       "        vertical-align: top;\n",
       "    }\n",
       "\n",
       "    .dataframe thead tr th {\n",
       "        text-align: left;\n",
       "    }\n",
       "</style>\n",
       "<table border=\"1\" class=\"dataframe\">\n",
       "  <thead>\n",
       "    <tr>\n",
       "      <th></th>\n",
       "      <th colspan=\"10\" halign=\"left\">DevType</th>\n",
       "      <th>...</th>\n",
       "      <th colspan=\"10\" halign=\"left\">NEWCollabToolsWantToWorkWith</th>\n",
       "    </tr>\n",
       "    <tr>\n",
       "      <th></th>\n",
       "      <th>Academic researcher</th>\n",
       "      <th>Data or business analyst</th>\n",
       "      <th>Data scientist or machine learning specialist</th>\n",
       "      <th>Database administrator</th>\n",
       "      <th>Designer</th>\n",
       "      <th>DevOps specialist</th>\n",
       "      <th>Developer, QA or test</th>\n",
       "      <th>Developer, back-end</th>\n",
       "      <th>Developer, desktop or enterprise applications</th>\n",
       "      <th>Developer, embedded applications or devices</th>\n",
       "      <th>...</th>\n",
       "      <th>RStudio</th>\n",
       "      <th>Rider</th>\n",
       "      <th>RubyMine</th>\n",
       "      <th>Sublime Text</th>\n",
       "      <th>TextMate</th>\n",
       "      <th>Vim</th>\n",
       "      <th>Visual Studio</th>\n",
       "      <th>Visual Studio Code</th>\n",
       "      <th>Webstorm</th>\n",
       "      <th>Xcode</th>\n",
       "    </tr>\n",
       "  </thead>\n",
       "  <tbody>\n",
       "    <tr>\n",
       "      <th>0</th>\n",
       "      <td>0</td>\n",
       "      <td>0</td>\n",
       "      <td>0</td>\n",
       "      <td>0</td>\n",
       "      <td>0</td>\n",
       "      <td>0</td>\n",
       "      <td>0</td>\n",
       "      <td>0</td>\n",
       "      <td>0</td>\n",
       "      <td>0</td>\n",
       "      <td>...</td>\n",
       "      <td>0</td>\n",
       "      <td>0</td>\n",
       "      <td>0</td>\n",
       "      <td>0</td>\n",
       "      <td>0</td>\n",
       "      <td>0</td>\n",
       "      <td>0</td>\n",
       "      <td>0</td>\n",
       "      <td>0</td>\n",
       "      <td>1</td>\n",
       "    </tr>\n",
       "    <tr>\n",
       "      <th>1</th>\n",
       "      <td>0</td>\n",
       "      <td>0</td>\n",
       "      <td>0</td>\n",
       "      <td>0</td>\n",
       "      <td>0</td>\n",
       "      <td>0</td>\n",
       "      <td>0</td>\n",
       "      <td>0</td>\n",
       "      <td>0</td>\n",
       "      <td>0</td>\n",
       "      <td>...</td>\n",
       "      <td>0</td>\n",
       "      <td>0</td>\n",
       "      <td>0</td>\n",
       "      <td>0</td>\n",
       "      <td>0</td>\n",
       "      <td>0</td>\n",
       "      <td>0</td>\n",
       "      <td>0</td>\n",
       "      <td>0</td>\n",
       "      <td>0</td>\n",
       "    </tr>\n",
       "    <tr>\n",
       "      <th>2</th>\n",
       "      <td>0</td>\n",
       "      <td>0</td>\n",
       "      <td>0</td>\n",
       "      <td>0</td>\n",
       "      <td>0</td>\n",
       "      <td>0</td>\n",
       "      <td>0</td>\n",
       "      <td>0</td>\n",
       "      <td>0</td>\n",
       "      <td>0</td>\n",
       "      <td>...</td>\n",
       "      <td>1</td>\n",
       "      <td>0</td>\n",
       "      <td>0</td>\n",
       "      <td>1</td>\n",
       "      <td>0</td>\n",
       "      <td>0</td>\n",
       "      <td>0</td>\n",
       "      <td>1</td>\n",
       "      <td>0</td>\n",
       "      <td>0</td>\n",
       "    </tr>\n",
       "    <tr>\n",
       "      <th>3</th>\n",
       "      <td>0</td>\n",
       "      <td>0</td>\n",
       "      <td>0</td>\n",
       "      <td>0</td>\n",
       "      <td>0</td>\n",
       "      <td>0</td>\n",
       "      <td>0</td>\n",
       "      <td>0</td>\n",
       "      <td>0</td>\n",
       "      <td>0</td>\n",
       "      <td>...</td>\n",
       "      <td>0</td>\n",
       "      <td>0</td>\n",
       "      <td>0</td>\n",
       "      <td>0</td>\n",
       "      <td>0</td>\n",
       "      <td>0</td>\n",
       "      <td>0</td>\n",
       "      <td>0</td>\n",
       "      <td>0</td>\n",
       "      <td>0</td>\n",
       "    </tr>\n",
       "    <tr>\n",
       "      <th>4</th>\n",
       "      <td>0</td>\n",
       "      <td>0</td>\n",
       "      <td>0</td>\n",
       "      <td>0</td>\n",
       "      <td>0</td>\n",
       "      <td>0</td>\n",
       "      <td>0</td>\n",
       "      <td>0</td>\n",
       "      <td>1</td>\n",
       "      <td>0</td>\n",
       "      <td>...</td>\n",
       "      <td>0</td>\n",
       "      <td>0</td>\n",
       "      <td>0</td>\n",
       "      <td>0</td>\n",
       "      <td>0</td>\n",
       "      <td>1</td>\n",
       "      <td>0</td>\n",
       "      <td>1</td>\n",
       "      <td>0</td>\n",
       "      <td>0</td>\n",
       "    </tr>\n",
       "    <tr>\n",
       "      <th>...</th>\n",
       "      <td>...</td>\n",
       "      <td>...</td>\n",
       "      <td>...</td>\n",
       "      <td>...</td>\n",
       "      <td>...</td>\n",
       "      <td>...</td>\n",
       "      <td>...</td>\n",
       "      <td>...</td>\n",
       "      <td>...</td>\n",
       "      <td>...</td>\n",
       "      <td>...</td>\n",
       "      <td>...</td>\n",
       "      <td>...</td>\n",
       "      <td>...</td>\n",
       "      <td>...</td>\n",
       "      <td>...</td>\n",
       "      <td>...</td>\n",
       "      <td>...</td>\n",
       "      <td>...</td>\n",
       "      <td>...</td>\n",
       "      <td>...</td>\n",
       "    </tr>\n",
       "    <tr>\n",
       "      <th>83434</th>\n",
       "      <td>0</td>\n",
       "      <td>0</td>\n",
       "      <td>0</td>\n",
       "      <td>0</td>\n",
       "      <td>0</td>\n",
       "      <td>0</td>\n",
       "      <td>0</td>\n",
       "      <td>1</td>\n",
       "      <td>0</td>\n",
       "      <td>0</td>\n",
       "      <td>...</td>\n",
       "      <td>0</td>\n",
       "      <td>0</td>\n",
       "      <td>0</td>\n",
       "      <td>1</td>\n",
       "      <td>0</td>\n",
       "      <td>1</td>\n",
       "      <td>0</td>\n",
       "      <td>0</td>\n",
       "      <td>0</td>\n",
       "      <td>0</td>\n",
       "    </tr>\n",
       "    <tr>\n",
       "      <th>83435</th>\n",
       "      <td>0</td>\n",
       "      <td>0</td>\n",
       "      <td>0</td>\n",
       "      <td>0</td>\n",
       "      <td>0</td>\n",
       "      <td>0</td>\n",
       "      <td>0</td>\n",
       "      <td>0</td>\n",
       "      <td>0</td>\n",
       "      <td>0</td>\n",
       "      <td>...</td>\n",
       "      <td>1</td>\n",
       "      <td>0</td>\n",
       "      <td>0</td>\n",
       "      <td>1</td>\n",
       "      <td>0</td>\n",
       "      <td>1</td>\n",
       "      <td>0</td>\n",
       "      <td>1</td>\n",
       "      <td>0</td>\n",
       "      <td>0</td>\n",
       "    </tr>\n",
       "    <tr>\n",
       "      <th>83436</th>\n",
       "      <td>0</td>\n",
       "      <td>0</td>\n",
       "      <td>1</td>\n",
       "      <td>0</td>\n",
       "      <td>0</td>\n",
       "      <td>1</td>\n",
       "      <td>0</td>\n",
       "      <td>0</td>\n",
       "      <td>0</td>\n",
       "      <td>0</td>\n",
       "      <td>...</td>\n",
       "      <td>0</td>\n",
       "      <td>0</td>\n",
       "      <td>0</td>\n",
       "      <td>0</td>\n",
       "      <td>0</td>\n",
       "      <td>1</td>\n",
       "      <td>0</td>\n",
       "      <td>0</td>\n",
       "      <td>0</td>\n",
       "      <td>0</td>\n",
       "    </tr>\n",
       "    <tr>\n",
       "      <th>83437</th>\n",
       "      <td>0</td>\n",
       "      <td>0</td>\n",
       "      <td>0</td>\n",
       "      <td>0</td>\n",
       "      <td>0</td>\n",
       "      <td>0</td>\n",
       "      <td>0</td>\n",
       "      <td>1</td>\n",
       "      <td>0</td>\n",
       "      <td>0</td>\n",
       "      <td>...</td>\n",
       "      <td>0</td>\n",
       "      <td>0</td>\n",
       "      <td>0</td>\n",
       "      <td>0</td>\n",
       "      <td>0</td>\n",
       "      <td>0</td>\n",
       "      <td>0</td>\n",
       "      <td>0</td>\n",
       "      <td>0</td>\n",
       "      <td>0</td>\n",
       "    </tr>\n",
       "    <tr>\n",
       "      <th>83438</th>\n",
       "      <td>0</td>\n",
       "      <td>0</td>\n",
       "      <td>0</td>\n",
       "      <td>0</td>\n",
       "      <td>0</td>\n",
       "      <td>0</td>\n",
       "      <td>0</td>\n",
       "      <td>1</td>\n",
       "      <td>0</td>\n",
       "      <td>0</td>\n",
       "      <td>...</td>\n",
       "      <td>0</td>\n",
       "      <td>0</td>\n",
       "      <td>0</td>\n",
       "      <td>0</td>\n",
       "      <td>0</td>\n",
       "      <td>0</td>\n",
       "      <td>0</td>\n",
       "      <td>1</td>\n",
       "      <td>0</td>\n",
       "      <td>0</td>\n",
       "    </tr>\n",
       "  </tbody>\n",
       "</table>\n",
       "<p>83439 rows × 261 columns</p>\n",
       "</div>"
      ],
      "text/plain": [
       "                  DevType                           \\\n",
       "      Academic researcher Data or business analyst   \n",
       "0                       0                        0   \n",
       "1                       0                        0   \n",
       "2                       0                        0   \n",
       "3                       0                        0   \n",
       "4                       0                        0   \n",
       "...                   ...                      ...   \n",
       "83434                   0                        0   \n",
       "83435                   0                        0   \n",
       "83436                   0                        0   \n",
       "83437                   0                        0   \n",
       "83438                   0                        0   \n",
       "\n",
       "                                                                            \\\n",
       "      Data scientist or machine learning specialist Database administrator   \n",
       "0                                                 0                      0   \n",
       "1                                                 0                      0   \n",
       "2                                                 0                      0   \n",
       "3                                                 0                      0   \n",
       "4                                                 0                      0   \n",
       "...                                             ...                    ...   \n",
       "83434                                             0                      0   \n",
       "83435                                             0                      0   \n",
       "83436                                             1                      0   \n",
       "83437                                             0                      0   \n",
       "83438                                             0                      0   \n",
       "\n",
       "                                                                            \\\n",
       "      Designer DevOps specialist Developer, QA or test Developer, back-end   \n",
       "0            0                 0                     0                   0   \n",
       "1            0                 0                     0                   0   \n",
       "2            0                 0                     0                   0   \n",
       "3            0                 0                     0                   0   \n",
       "4            0                 0                     0                   0   \n",
       "...        ...               ...                   ...                 ...   \n",
       "83434        0                 0                     0                   1   \n",
       "83435        0                 0                     0                   0   \n",
       "83436        0                 1                     0                   0   \n",
       "83437        0                 0                     0                   1   \n",
       "83438        0                 0                     0                   1   \n",
       "\n",
       "                                                     \\\n",
       "      Developer, desktop or enterprise applications   \n",
       "0                                                 0   \n",
       "1                                                 0   \n",
       "2                                                 0   \n",
       "3                                                 0   \n",
       "4                                                 1   \n",
       "...                                             ...   \n",
       "83434                                             0   \n",
       "83435                                             0   \n",
       "83436                                             0   \n",
       "83437                                             0   \n",
       "83438                                             0   \n",
       "\n",
       "                                                   ...  \\\n",
       "      Developer, embedded applications or devices  ...   \n",
       "0                                               0  ...   \n",
       "1                                               0  ...   \n",
       "2                                               0  ...   \n",
       "3                                               0  ...   \n",
       "4                                               0  ...   \n",
       "...                                           ...  ...   \n",
       "83434                                           0  ...   \n",
       "83435                                           0  ...   \n",
       "83436                                           0  ...   \n",
       "83437                                           0  ...   \n",
       "83438                                           0  ...   \n",
       "\n",
       "      NEWCollabToolsWantToWorkWith                                           \\\n",
       "                           RStudio Rider RubyMine Sublime Text TextMate Vim   \n",
       "0                                0     0        0            0        0   0   \n",
       "1                                0     0        0            0        0   0   \n",
       "2                                1     0        0            1        0   0   \n",
       "3                                0     0        0            0        0   0   \n",
       "4                                0     0        0            0        0   1   \n",
       "...                            ...   ...      ...          ...      ...  ..   \n",
       "83434                            0     0        0            1        0   1   \n",
       "83435                            1     0        0            1        0   1   \n",
       "83436                            0     0        0            0        0   1   \n",
       "83437                            0     0        0            0        0   0   \n",
       "83438                            0     0        0            0        0   0   \n",
       "\n",
       "                                                       \n",
       "      Visual Studio Visual Studio Code Webstorm Xcode  \n",
       "0                 0                  0        0     1  \n",
       "1                 0                  0        0     0  \n",
       "2                 0                  1        0     0  \n",
       "3                 0                  0        0     0  \n",
       "4                 0                  1        0     0  \n",
       "...             ...                ...      ...   ...  \n",
       "83434             0                  0        0     0  \n",
       "83435             0                  1        0     0  \n",
       "83436             0                  0        0     0  \n",
       "83437             0                  0        0     0  \n",
       "83438             0                  1        0     0  \n",
       "\n",
       "[83439 rows x 261 columns]"
      ]
     },
     "execution_count": 26,
     "metadata": {},
     "output_type": "execute_result"
    }
   ],
   "source": [
    "# merge 1-hot encoded \n",
    "df = pd.concat(encoded_dfs , axis = 1)\n",
    "df"
   ]
  },
  {
   "cell_type": "code",
   "execution_count": 27,
   "metadata": {},
   "outputs": [
    {
     "data": {
      "text/html": [
       "<div>\n",
       "<style scoped>\n",
       "    .dataframe tbody tr th:only-of-type {\n",
       "        vertical-align: middle;\n",
       "    }\n",
       "\n",
       "    .dataframe tbody tr th {\n",
       "        vertical-align: top;\n",
       "    }\n",
       "\n",
       "    .dataframe thead th {\n",
       "        text-align: right;\n",
       "    }\n",
       "</style>\n",
       "<table border=\"1\" class=\"dataframe\">\n",
       "  <thead>\n",
       "    <tr style=\"text-align: right;\">\n",
       "      <th></th>\n",
       "      <th>0</th>\n",
       "      <th>1</th>\n",
       "      <th>2</th>\n",
       "      <th>3</th>\n",
       "      <th>4</th>\n",
       "      <th>5</th>\n",
       "      <th>6</th>\n",
       "      <th>7</th>\n",
       "      <th>8</th>\n",
       "      <th>9</th>\n",
       "      <th>...</th>\n",
       "      <th>83429</th>\n",
       "      <th>83430</th>\n",
       "      <th>83431</th>\n",
       "      <th>83432</th>\n",
       "      <th>83433</th>\n",
       "      <th>83434</th>\n",
       "      <th>83435</th>\n",
       "      <th>83436</th>\n",
       "      <th>83437</th>\n",
       "      <th>83438</th>\n",
       "    </tr>\n",
       "  </thead>\n",
       "  <tbody>\n",
       "    <tr>\n",
       "      <th>APL</th>\n",
       "      <td>0</td>\n",
       "      <td>0</td>\n",
       "      <td>0</td>\n",
       "      <td>0</td>\n",
       "      <td>0</td>\n",
       "      <td>0</td>\n",
       "      <td>0</td>\n",
       "      <td>0</td>\n",
       "      <td>0</td>\n",
       "      <td>0</td>\n",
       "      <td>...</td>\n",
       "      <td>0</td>\n",
       "      <td>1</td>\n",
       "      <td>0</td>\n",
       "      <td>0</td>\n",
       "      <td>0</td>\n",
       "      <td>0</td>\n",
       "      <td>0</td>\n",
       "      <td>0</td>\n",
       "      <td>0</td>\n",
       "      <td>0</td>\n",
       "    </tr>\n",
       "    <tr>\n",
       "      <th>Assembly</th>\n",
       "      <td>0</td>\n",
       "      <td>0</td>\n",
       "      <td>1</td>\n",
       "      <td>0</td>\n",
       "      <td>0</td>\n",
       "      <td>0</td>\n",
       "      <td>0</td>\n",
       "      <td>0</td>\n",
       "      <td>0</td>\n",
       "      <td>0</td>\n",
       "      <td>...</td>\n",
       "      <td>0</td>\n",
       "      <td>0</td>\n",
       "      <td>0</td>\n",
       "      <td>0</td>\n",
       "      <td>0</td>\n",
       "      <td>0</td>\n",
       "      <td>0</td>\n",
       "      <td>0</td>\n",
       "      <td>0</td>\n",
       "      <td>0</td>\n",
       "    </tr>\n",
       "    <tr>\n",
       "      <th>Bash/Shell</th>\n",
       "      <td>0</td>\n",
       "      <td>0</td>\n",
       "      <td>0</td>\n",
       "      <td>0</td>\n",
       "      <td>1</td>\n",
       "      <td>0</td>\n",
       "      <td>0</td>\n",
       "      <td>0</td>\n",
       "      <td>0</td>\n",
       "      <td>0</td>\n",
       "      <td>...</td>\n",
       "      <td>0</td>\n",
       "      <td>0</td>\n",
       "      <td>0</td>\n",
       "      <td>0</td>\n",
       "      <td>0</td>\n",
       "      <td>0</td>\n",
       "      <td>0</td>\n",
       "      <td>0</td>\n",
       "      <td>1</td>\n",
       "      <td>0</td>\n",
       "    </tr>\n",
       "    <tr>\n",
       "      <th>C</th>\n",
       "      <td>0</td>\n",
       "      <td>0</td>\n",
       "      <td>1</td>\n",
       "      <td>0</td>\n",
       "      <td>0</td>\n",
       "      <td>1</td>\n",
       "      <td>0</td>\n",
       "      <td>0</td>\n",
       "      <td>0</td>\n",
       "      <td>0</td>\n",
       "      <td>...</td>\n",
       "      <td>0</td>\n",
       "      <td>0</td>\n",
       "      <td>0</td>\n",
       "      <td>0</td>\n",
       "      <td>0</td>\n",
       "      <td>0</td>\n",
       "      <td>0</td>\n",
       "      <td>0</td>\n",
       "      <td>0</td>\n",
       "      <td>0</td>\n",
       "    </tr>\n",
       "    <tr>\n",
       "      <th>C#</th>\n",
       "      <td>0</td>\n",
       "      <td>0</td>\n",
       "      <td>0</td>\n",
       "      <td>0</td>\n",
       "      <td>0</td>\n",
       "      <td>1</td>\n",
       "      <td>0</td>\n",
       "      <td>0</td>\n",
       "      <td>0</td>\n",
       "      <td>0</td>\n",
       "      <td>...</td>\n",
       "      <td>0</td>\n",
       "      <td>0</td>\n",
       "      <td>1</td>\n",
       "      <td>0</td>\n",
       "      <td>0</td>\n",
       "      <td>0</td>\n",
       "      <td>0</td>\n",
       "      <td>0</td>\n",
       "      <td>0</td>\n",
       "      <td>0</td>\n",
       "    </tr>\n",
       "    <tr>\n",
       "      <th>C++</th>\n",
       "      <td>1</td>\n",
       "      <td>0</td>\n",
       "      <td>0</td>\n",
       "      <td>0</td>\n",
       "      <td>0</td>\n",
       "      <td>1</td>\n",
       "      <td>0</td>\n",
       "      <td>0</td>\n",
       "      <td>0</td>\n",
       "      <td>1</td>\n",
       "      <td>...</td>\n",
       "      <td>0</td>\n",
       "      <td>0</td>\n",
       "      <td>0</td>\n",
       "      <td>0</td>\n",
       "      <td>0</td>\n",
       "      <td>0</td>\n",
       "      <td>0</td>\n",
       "      <td>0</td>\n",
       "      <td>0</td>\n",
       "      <td>0</td>\n",
       "    </tr>\n",
       "    <tr>\n",
       "      <th>COBOL</th>\n",
       "      <td>0</td>\n",
       "      <td>0</td>\n",
       "      <td>0</td>\n",
       "      <td>0</td>\n",
       "      <td>0</td>\n",
       "      <td>0</td>\n",
       "      <td>0</td>\n",
       "      <td>0</td>\n",
       "      <td>0</td>\n",
       "      <td>0</td>\n",
       "      <td>...</td>\n",
       "      <td>0</td>\n",
       "      <td>0</td>\n",
       "      <td>0</td>\n",
       "      <td>0</td>\n",
       "      <td>0</td>\n",
       "      <td>0</td>\n",
       "      <td>0</td>\n",
       "      <td>0</td>\n",
       "      <td>0</td>\n",
       "      <td>0</td>\n",
       "    </tr>\n",
       "    <tr>\n",
       "      <th>Clojure</th>\n",
       "      <td>0</td>\n",
       "      <td>0</td>\n",
       "      <td>0</td>\n",
       "      <td>0</td>\n",
       "      <td>0</td>\n",
       "      <td>0</td>\n",
       "      <td>0</td>\n",
       "      <td>0</td>\n",
       "      <td>0</td>\n",
       "      <td>0</td>\n",
       "      <td>...</td>\n",
       "      <td>0</td>\n",
       "      <td>1</td>\n",
       "      <td>0</td>\n",
       "      <td>0</td>\n",
       "      <td>0</td>\n",
       "      <td>1</td>\n",
       "      <td>0</td>\n",
       "      <td>0</td>\n",
       "      <td>0</td>\n",
       "      <td>0</td>\n",
       "    </tr>\n",
       "    <tr>\n",
       "      <th>Crystal</th>\n",
       "      <td>0</td>\n",
       "      <td>0</td>\n",
       "      <td>0</td>\n",
       "      <td>0</td>\n",
       "      <td>0</td>\n",
       "      <td>0</td>\n",
       "      <td>0</td>\n",
       "      <td>0</td>\n",
       "      <td>0</td>\n",
       "      <td>0</td>\n",
       "      <td>...</td>\n",
       "      <td>0</td>\n",
       "      <td>0</td>\n",
       "      <td>0</td>\n",
       "      <td>0</td>\n",
       "      <td>0</td>\n",
       "      <td>0</td>\n",
       "      <td>0</td>\n",
       "      <td>0</td>\n",
       "      <td>0</td>\n",
       "      <td>0</td>\n",
       "    </tr>\n",
       "    <tr>\n",
       "      <th>Dart</th>\n",
       "      <td>0</td>\n",
       "      <td>0</td>\n",
       "      <td>0</td>\n",
       "      <td>0</td>\n",
       "      <td>0</td>\n",
       "      <td>0</td>\n",
       "      <td>0</td>\n",
       "      <td>0</td>\n",
       "      <td>0</td>\n",
       "      <td>0</td>\n",
       "      <td>...</td>\n",
       "      <td>0</td>\n",
       "      <td>0</td>\n",
       "      <td>1</td>\n",
       "      <td>0</td>\n",
       "      <td>0</td>\n",
       "      <td>0</td>\n",
       "      <td>0</td>\n",
       "      <td>0</td>\n",
       "      <td>0</td>\n",
       "      <td>0</td>\n",
       "    </tr>\n",
       "    <tr>\n",
       "      <th>Delphi</th>\n",
       "      <td>0</td>\n",
       "      <td>0</td>\n",
       "      <td>0</td>\n",
       "      <td>0</td>\n",
       "      <td>0</td>\n",
       "      <td>0</td>\n",
       "      <td>0</td>\n",
       "      <td>0</td>\n",
       "      <td>0</td>\n",
       "      <td>0</td>\n",
       "      <td>...</td>\n",
       "      <td>0</td>\n",
       "      <td>0</td>\n",
       "      <td>0</td>\n",
       "      <td>0</td>\n",
       "      <td>0</td>\n",
       "      <td>0</td>\n",
       "      <td>0</td>\n",
       "      <td>0</td>\n",
       "      <td>0</td>\n",
       "      <td>1</td>\n",
       "    </tr>\n",
       "    <tr>\n",
       "      <th>Elixir</th>\n",
       "      <td>0</td>\n",
       "      <td>0</td>\n",
       "      <td>0</td>\n",
       "      <td>0</td>\n",
       "      <td>0</td>\n",
       "      <td>0</td>\n",
       "      <td>0</td>\n",
       "      <td>0</td>\n",
       "      <td>0</td>\n",
       "      <td>0</td>\n",
       "      <td>...</td>\n",
       "      <td>0</td>\n",
       "      <td>0</td>\n",
       "      <td>0</td>\n",
       "      <td>0</td>\n",
       "      <td>0</td>\n",
       "      <td>0</td>\n",
       "      <td>0</td>\n",
       "      <td>0</td>\n",
       "      <td>0</td>\n",
       "      <td>1</td>\n",
       "    </tr>\n",
       "    <tr>\n",
       "      <th>Erlang</th>\n",
       "      <td>0</td>\n",
       "      <td>0</td>\n",
       "      <td>0</td>\n",
       "      <td>0</td>\n",
       "      <td>0</td>\n",
       "      <td>0</td>\n",
       "      <td>0</td>\n",
       "      <td>0</td>\n",
       "      <td>0</td>\n",
       "      <td>0</td>\n",
       "      <td>...</td>\n",
       "      <td>0</td>\n",
       "      <td>0</td>\n",
       "      <td>0</td>\n",
       "      <td>0</td>\n",
       "      <td>0</td>\n",
       "      <td>0</td>\n",
       "      <td>0</td>\n",
       "      <td>0</td>\n",
       "      <td>0</td>\n",
       "      <td>0</td>\n",
       "    </tr>\n",
       "    <tr>\n",
       "      <th>F#</th>\n",
       "      <td>0</td>\n",
       "      <td>0</td>\n",
       "      <td>0</td>\n",
       "      <td>0</td>\n",
       "      <td>0</td>\n",
       "      <td>0</td>\n",
       "      <td>0</td>\n",
       "      <td>0</td>\n",
       "      <td>0</td>\n",
       "      <td>0</td>\n",
       "      <td>...</td>\n",
       "      <td>0</td>\n",
       "      <td>0</td>\n",
       "      <td>0</td>\n",
       "      <td>0</td>\n",
       "      <td>0</td>\n",
       "      <td>0</td>\n",
       "      <td>0</td>\n",
       "      <td>0</td>\n",
       "      <td>0</td>\n",
       "      <td>0</td>\n",
       "    </tr>\n",
       "    <tr>\n",
       "      <th>Go</th>\n",
       "      <td>0</td>\n",
       "      <td>0</td>\n",
       "      <td>0</td>\n",
       "      <td>0</td>\n",
       "      <td>0</td>\n",
       "      <td>0</td>\n",
       "      <td>0</td>\n",
       "      <td>0</td>\n",
       "      <td>0</td>\n",
       "      <td>0</td>\n",
       "      <td>...</td>\n",
       "      <td>0</td>\n",
       "      <td>0</td>\n",
       "      <td>0</td>\n",
       "      <td>0</td>\n",
       "      <td>0</td>\n",
       "      <td>0</td>\n",
       "      <td>0</td>\n",
       "      <td>0</td>\n",
       "      <td>0</td>\n",
       "      <td>0</td>\n",
       "    </tr>\n",
       "    <tr>\n",
       "      <th>Groovy</th>\n",
       "      <td>0</td>\n",
       "      <td>0</td>\n",
       "      <td>0</td>\n",
       "      <td>0</td>\n",
       "      <td>0</td>\n",
       "      <td>0</td>\n",
       "      <td>0</td>\n",
       "      <td>0</td>\n",
       "      <td>0</td>\n",
       "      <td>0</td>\n",
       "      <td>...</td>\n",
       "      <td>0</td>\n",
       "      <td>0</td>\n",
       "      <td>0</td>\n",
       "      <td>0</td>\n",
       "      <td>0</td>\n",
       "      <td>0</td>\n",
       "      <td>0</td>\n",
       "      <td>1</td>\n",
       "      <td>0</td>\n",
       "      <td>0</td>\n",
       "    </tr>\n",
       "    <tr>\n",
       "      <th>HTML/CSS</th>\n",
       "      <td>1</td>\n",
       "      <td>0</td>\n",
       "      <td>0</td>\n",
       "      <td>0</td>\n",
       "      <td>1</td>\n",
       "      <td>1</td>\n",
       "      <td>1</td>\n",
       "      <td>1</td>\n",
       "      <td>1</td>\n",
       "      <td>0</td>\n",
       "      <td>...</td>\n",
       "      <td>1</td>\n",
       "      <td>0</td>\n",
       "      <td>1</td>\n",
       "      <td>0</td>\n",
       "      <td>0</td>\n",
       "      <td>0</td>\n",
       "      <td>0</td>\n",
       "      <td>0</td>\n",
       "      <td>0</td>\n",
       "      <td>1</td>\n",
       "    </tr>\n",
       "    <tr>\n",
       "      <th>Haskell</th>\n",
       "      <td>0</td>\n",
       "      <td>0</td>\n",
       "      <td>0</td>\n",
       "      <td>0</td>\n",
       "      <td>0</td>\n",
       "      <td>0</td>\n",
       "      <td>0</td>\n",
       "      <td>0</td>\n",
       "      <td>0</td>\n",
       "      <td>0</td>\n",
       "      <td>...</td>\n",
       "      <td>0</td>\n",
       "      <td>0</td>\n",
       "      <td>0</td>\n",
       "      <td>0</td>\n",
       "      <td>0</td>\n",
       "      <td>0</td>\n",
       "      <td>0</td>\n",
       "      <td>0</td>\n",
       "      <td>0</td>\n",
       "      <td>0</td>\n",
       "    </tr>\n",
       "    <tr>\n",
       "      <th>Java</th>\n",
       "      <td>0</td>\n",
       "      <td>0</td>\n",
       "      <td>0</td>\n",
       "      <td>0</td>\n",
       "      <td>0</td>\n",
       "      <td>1</td>\n",
       "      <td>0</td>\n",
       "      <td>0</td>\n",
       "      <td>0</td>\n",
       "      <td>0</td>\n",
       "      <td>...</td>\n",
       "      <td>0</td>\n",
       "      <td>0</td>\n",
       "      <td>1</td>\n",
       "      <td>0</td>\n",
       "      <td>1</td>\n",
       "      <td>0</td>\n",
       "      <td>0</td>\n",
       "      <td>1</td>\n",
       "      <td>0</td>\n",
       "      <td>1</td>\n",
       "    </tr>\n",
       "    <tr>\n",
       "      <th>JavaScript</th>\n",
       "      <td>1</td>\n",
       "      <td>1</td>\n",
       "      <td>0</td>\n",
       "      <td>1</td>\n",
       "      <td>0</td>\n",
       "      <td>1</td>\n",
       "      <td>1</td>\n",
       "      <td>1</td>\n",
       "      <td>1</td>\n",
       "      <td>0</td>\n",
       "      <td>...</td>\n",
       "      <td>0</td>\n",
       "      <td>0</td>\n",
       "      <td>1</td>\n",
       "      <td>0</td>\n",
       "      <td>1</td>\n",
       "      <td>0</td>\n",
       "      <td>0</td>\n",
       "      <td>0</td>\n",
       "      <td>1</td>\n",
       "      <td>1</td>\n",
       "    </tr>\n",
       "    <tr>\n",
       "      <th>Julia</th>\n",
       "      <td>0</td>\n",
       "      <td>0</td>\n",
       "      <td>0</td>\n",
       "      <td>0</td>\n",
       "      <td>0</td>\n",
       "      <td>0</td>\n",
       "      <td>0</td>\n",
       "      <td>0</td>\n",
       "      <td>0</td>\n",
       "      <td>0</td>\n",
       "      <td>...</td>\n",
       "      <td>0</td>\n",
       "      <td>0</td>\n",
       "      <td>0</td>\n",
       "      <td>0</td>\n",
       "      <td>0</td>\n",
       "      <td>0</td>\n",
       "      <td>0</td>\n",
       "      <td>0</td>\n",
       "      <td>0</td>\n",
       "      <td>0</td>\n",
       "    </tr>\n",
       "    <tr>\n",
       "      <th>Kotlin</th>\n",
       "      <td>0</td>\n",
       "      <td>0</td>\n",
       "      <td>0</td>\n",
       "      <td>0</td>\n",
       "      <td>0</td>\n",
       "      <td>0</td>\n",
       "      <td>0</td>\n",
       "      <td>0</td>\n",
       "      <td>0</td>\n",
       "      <td>0</td>\n",
       "      <td>...</td>\n",
       "      <td>0</td>\n",
       "      <td>0</td>\n",
       "      <td>1</td>\n",
       "      <td>0</td>\n",
       "      <td>1</td>\n",
       "      <td>1</td>\n",
       "      <td>0</td>\n",
       "      <td>0</td>\n",
       "      <td>0</td>\n",
       "      <td>0</td>\n",
       "    </tr>\n",
       "    <tr>\n",
       "      <th>LISP</th>\n",
       "      <td>0</td>\n",
       "      <td>0</td>\n",
       "      <td>0</td>\n",
       "      <td>0</td>\n",
       "      <td>0</td>\n",
       "      <td>0</td>\n",
       "      <td>0</td>\n",
       "      <td>0</td>\n",
       "      <td>0</td>\n",
       "      <td>0</td>\n",
       "      <td>...</td>\n",
       "      <td>0</td>\n",
       "      <td>1</td>\n",
       "      <td>0</td>\n",
       "      <td>0</td>\n",
       "      <td>0</td>\n",
       "      <td>0</td>\n",
       "      <td>0</td>\n",
       "      <td>0</td>\n",
       "      <td>0</td>\n",
       "      <td>0</td>\n",
       "    </tr>\n",
       "    <tr>\n",
       "      <th>Matlab</th>\n",
       "      <td>0</td>\n",
       "      <td>0</td>\n",
       "      <td>0</td>\n",
       "      <td>0</td>\n",
       "      <td>0</td>\n",
       "      <td>0</td>\n",
       "      <td>0</td>\n",
       "      <td>0</td>\n",
       "      <td>0</td>\n",
       "      <td>0</td>\n",
       "      <td>...</td>\n",
       "      <td>0</td>\n",
       "      <td>0</td>\n",
       "      <td>0</td>\n",
       "      <td>0</td>\n",
       "      <td>0</td>\n",
       "      <td>0</td>\n",
       "      <td>0</td>\n",
       "      <td>0</td>\n",
       "      <td>0</td>\n",
       "      <td>0</td>\n",
       "    </tr>\n",
       "    <tr>\n",
       "      <th>Node.js</th>\n",
       "      <td>0</td>\n",
       "      <td>0</td>\n",
       "      <td>0</td>\n",
       "      <td>0</td>\n",
       "      <td>0</td>\n",
       "      <td>1</td>\n",
       "      <td>0</td>\n",
       "      <td>0</td>\n",
       "      <td>0</td>\n",
       "      <td>0</td>\n",
       "      <td>...</td>\n",
       "      <td>0</td>\n",
       "      <td>0</td>\n",
       "      <td>1</td>\n",
       "      <td>0</td>\n",
       "      <td>0</td>\n",
       "      <td>0</td>\n",
       "      <td>0</td>\n",
       "      <td>0</td>\n",
       "      <td>1</td>\n",
       "      <td>0</td>\n",
       "    </tr>\n",
       "    <tr>\n",
       "      <th>Objective-C</th>\n",
       "      <td>1</td>\n",
       "      <td>0</td>\n",
       "      <td>0</td>\n",
       "      <td>0</td>\n",
       "      <td>0</td>\n",
       "      <td>0</td>\n",
       "      <td>0</td>\n",
       "      <td>0</td>\n",
       "      <td>0</td>\n",
       "      <td>0</td>\n",
       "      <td>...</td>\n",
       "      <td>0</td>\n",
       "      <td>0</td>\n",
       "      <td>0</td>\n",
       "      <td>0</td>\n",
       "      <td>1</td>\n",
       "      <td>0</td>\n",
       "      <td>0</td>\n",
       "      <td>0</td>\n",
       "      <td>0</td>\n",
       "      <td>0</td>\n",
       "    </tr>\n",
       "    <tr>\n",
       "      <th>PHP</th>\n",
       "      <td>1</td>\n",
       "      <td>0</td>\n",
       "      <td>0</td>\n",
       "      <td>0</td>\n",
       "      <td>0</td>\n",
       "      <td>0</td>\n",
       "      <td>0</td>\n",
       "      <td>1</td>\n",
       "      <td>0</td>\n",
       "      <td>0</td>\n",
       "      <td>...</td>\n",
       "      <td>1</td>\n",
       "      <td>0</td>\n",
       "      <td>1</td>\n",
       "      <td>0</td>\n",
       "      <td>0</td>\n",
       "      <td>0</td>\n",
       "      <td>0</td>\n",
       "      <td>0</td>\n",
       "      <td>0</td>\n",
       "      <td>0</td>\n",
       "    </tr>\n",
       "    <tr>\n",
       "      <th>Perl</th>\n",
       "      <td>0</td>\n",
       "      <td>0</td>\n",
       "      <td>0</td>\n",
       "      <td>0</td>\n",
       "      <td>0</td>\n",
       "      <td>0</td>\n",
       "      <td>0</td>\n",
       "      <td>0</td>\n",
       "      <td>0</td>\n",
       "      <td>0</td>\n",
       "      <td>...</td>\n",
       "      <td>0</td>\n",
       "      <td>0</td>\n",
       "      <td>0</td>\n",
       "      <td>0</td>\n",
       "      <td>0</td>\n",
       "      <td>0</td>\n",
       "      <td>0</td>\n",
       "      <td>0</td>\n",
       "      <td>0</td>\n",
       "      <td>0</td>\n",
       "    </tr>\n",
       "    <tr>\n",
       "      <th>PowerShell</th>\n",
       "      <td>0</td>\n",
       "      <td>0</td>\n",
       "      <td>0</td>\n",
       "      <td>0</td>\n",
       "      <td>0</td>\n",
       "      <td>1</td>\n",
       "      <td>0</td>\n",
       "      <td>0</td>\n",
       "      <td>0</td>\n",
       "      <td>0</td>\n",
       "      <td>...</td>\n",
       "      <td>1</td>\n",
       "      <td>0</td>\n",
       "      <td>0</td>\n",
       "      <td>0</td>\n",
       "      <td>0</td>\n",
       "      <td>0</td>\n",
       "      <td>0</td>\n",
       "      <td>0</td>\n",
       "      <td>0</td>\n",
       "      <td>0</td>\n",
       "    </tr>\n",
       "    <tr>\n",
       "      <th>Python</th>\n",
       "      <td>0</td>\n",
       "      <td>1</td>\n",
       "      <td>1</td>\n",
       "      <td>0</td>\n",
       "      <td>1</td>\n",
       "      <td>1</td>\n",
       "      <td>0</td>\n",
       "      <td>0</td>\n",
       "      <td>0</td>\n",
       "      <td>1</td>\n",
       "      <td>...</td>\n",
       "      <td>1</td>\n",
       "      <td>1</td>\n",
       "      <td>1</td>\n",
       "      <td>0</td>\n",
       "      <td>0</td>\n",
       "      <td>0</td>\n",
       "      <td>0</td>\n",
       "      <td>1</td>\n",
       "      <td>1</td>\n",
       "      <td>0</td>\n",
       "    </tr>\n",
       "    <tr>\n",
       "      <th>R</th>\n",
       "      <td>0</td>\n",
       "      <td>0</td>\n",
       "      <td>1</td>\n",
       "      <td>0</td>\n",
       "      <td>0</td>\n",
       "      <td>0</td>\n",
       "      <td>0</td>\n",
       "      <td>0</td>\n",
       "      <td>0</td>\n",
       "      <td>0</td>\n",
       "      <td>...</td>\n",
       "      <td>0</td>\n",
       "      <td>0</td>\n",
       "      <td>0</td>\n",
       "      <td>0</td>\n",
       "      <td>0</td>\n",
       "      <td>0</td>\n",
       "      <td>0</td>\n",
       "      <td>0</td>\n",
       "      <td>0</td>\n",
       "      <td>0</td>\n",
       "    </tr>\n",
       "    <tr>\n",
       "      <th>Ruby</th>\n",
       "      <td>0</td>\n",
       "      <td>0</td>\n",
       "      <td>0</td>\n",
       "      <td>0</td>\n",
       "      <td>0</td>\n",
       "      <td>0</td>\n",
       "      <td>0</td>\n",
       "      <td>1</td>\n",
       "      <td>0</td>\n",
       "      <td>0</td>\n",
       "      <td>...</td>\n",
       "      <td>0</td>\n",
       "      <td>1</td>\n",
       "      <td>0</td>\n",
       "      <td>1</td>\n",
       "      <td>0</td>\n",
       "      <td>0</td>\n",
       "      <td>0</td>\n",
       "      <td>0</td>\n",
       "      <td>0</td>\n",
       "      <td>0</td>\n",
       "    </tr>\n",
       "    <tr>\n",
       "      <th>Rust</th>\n",
       "      <td>0</td>\n",
       "      <td>0</td>\n",
       "      <td>1</td>\n",
       "      <td>0</td>\n",
       "      <td>0</td>\n",
       "      <td>0</td>\n",
       "      <td>0</td>\n",
       "      <td>0</td>\n",
       "      <td>0</td>\n",
       "      <td>0</td>\n",
       "      <td>...</td>\n",
       "      <td>0</td>\n",
       "      <td>0</td>\n",
       "      <td>0</td>\n",
       "      <td>0</td>\n",
       "      <td>0</td>\n",
       "      <td>0</td>\n",
       "      <td>0</td>\n",
       "      <td>0</td>\n",
       "      <td>0</td>\n",
       "      <td>0</td>\n",
       "    </tr>\n",
       "    <tr>\n",
       "      <th>SQL</th>\n",
       "      <td>0</td>\n",
       "      <td>0</td>\n",
       "      <td>0</td>\n",
       "      <td>0</td>\n",
       "      <td>1</td>\n",
       "      <td>1</td>\n",
       "      <td>0</td>\n",
       "      <td>1</td>\n",
       "      <td>0</td>\n",
       "      <td>0</td>\n",
       "      <td>...</td>\n",
       "      <td>1</td>\n",
       "      <td>1</td>\n",
       "      <td>1</td>\n",
       "      <td>0</td>\n",
       "      <td>0</td>\n",
       "      <td>1</td>\n",
       "      <td>0</td>\n",
       "      <td>0</td>\n",
       "      <td>0</td>\n",
       "      <td>0</td>\n",
       "    </tr>\n",
       "    <tr>\n",
       "      <th>Scala</th>\n",
       "      <td>0</td>\n",
       "      <td>0</td>\n",
       "      <td>0</td>\n",
       "      <td>0</td>\n",
       "      <td>0</td>\n",
       "      <td>0</td>\n",
       "      <td>0</td>\n",
       "      <td>0</td>\n",
       "      <td>0</td>\n",
       "      <td>0</td>\n",
       "      <td>...</td>\n",
       "      <td>0</td>\n",
       "      <td>0</td>\n",
       "      <td>0</td>\n",
       "      <td>0</td>\n",
       "      <td>0</td>\n",
       "      <td>0</td>\n",
       "      <td>0</td>\n",
       "      <td>0</td>\n",
       "      <td>0</td>\n",
       "      <td>0</td>\n",
       "    </tr>\n",
       "    <tr>\n",
       "      <th>Swift</th>\n",
       "      <td>1</td>\n",
       "      <td>0</td>\n",
       "      <td>0</td>\n",
       "      <td>0</td>\n",
       "      <td>0</td>\n",
       "      <td>1</td>\n",
       "      <td>0</td>\n",
       "      <td>0</td>\n",
       "      <td>0</td>\n",
       "      <td>0</td>\n",
       "      <td>...</td>\n",
       "      <td>0</td>\n",
       "      <td>0</td>\n",
       "      <td>1</td>\n",
       "      <td>0</td>\n",
       "      <td>0</td>\n",
       "      <td>0</td>\n",
       "      <td>0</td>\n",
       "      <td>0</td>\n",
       "      <td>0</td>\n",
       "      <td>0</td>\n",
       "    </tr>\n",
       "    <tr>\n",
       "      <th>TypeScript</th>\n",
       "      <td>0</td>\n",
       "      <td>0</td>\n",
       "      <td>0</td>\n",
       "      <td>1</td>\n",
       "      <td>0</td>\n",
       "      <td>0</td>\n",
       "      <td>0</td>\n",
       "      <td>1</td>\n",
       "      <td>0</td>\n",
       "      <td>0</td>\n",
       "      <td>...</td>\n",
       "      <td>0</td>\n",
       "      <td>1</td>\n",
       "      <td>1</td>\n",
       "      <td>0</td>\n",
       "      <td>1</td>\n",
       "      <td>0</td>\n",
       "      <td>0</td>\n",
       "      <td>0</td>\n",
       "      <td>0</td>\n",
       "      <td>0</td>\n",
       "    </tr>\n",
       "    <tr>\n",
       "      <th>VBA</th>\n",
       "      <td>0</td>\n",
       "      <td>0</td>\n",
       "      <td>0</td>\n",
       "      <td>0</td>\n",
       "      <td>0</td>\n",
       "      <td>0</td>\n",
       "      <td>0</td>\n",
       "      <td>0</td>\n",
       "      <td>0</td>\n",
       "      <td>0</td>\n",
       "      <td>...</td>\n",
       "      <td>1</td>\n",
       "      <td>0</td>\n",
       "      <td>0</td>\n",
       "      <td>0</td>\n",
       "      <td>0</td>\n",
       "      <td>0</td>\n",
       "      <td>0</td>\n",
       "      <td>0</td>\n",
       "      <td>0</td>\n",
       "      <td>0</td>\n",
       "    </tr>\n",
       "  </tbody>\n",
       "</table>\n",
       "<p>38 rows × 83439 columns</p>\n",
       "</div>"
      ],
      "text/plain": [
       "             0      1      2      3      4      5      6      7      8      \\\n",
       "APL              0      0      0      0      0      0      0      0      0   \n",
       "Assembly         0      0      1      0      0      0      0      0      0   \n",
       "Bash/Shell       0      0      0      0      1      0      0      0      0   \n",
       "C                0      0      1      0      0      1      0      0      0   \n",
       "C#               0      0      0      0      0      1      0      0      0   \n",
       "C++              1      0      0      0      0      1      0      0      0   \n",
       "COBOL            0      0      0      0      0      0      0      0      0   \n",
       "Clojure          0      0      0      0      0      0      0      0      0   \n",
       "Crystal          0      0      0      0      0      0      0      0      0   \n",
       "Dart             0      0      0      0      0      0      0      0      0   \n",
       "Delphi           0      0      0      0      0      0      0      0      0   \n",
       "Elixir           0      0      0      0      0      0      0      0      0   \n",
       "Erlang           0      0      0      0      0      0      0      0      0   \n",
       "F#               0      0      0      0      0      0      0      0      0   \n",
       "Go               0      0      0      0      0      0      0      0      0   \n",
       "Groovy           0      0      0      0      0      0      0      0      0   \n",
       "HTML/CSS         1      0      0      0      1      1      1      1      1   \n",
       "Haskell          0      0      0      0      0      0      0      0      0   \n",
       "Java             0      0      0      0      0      1      0      0      0   \n",
       "JavaScript       1      1      0      1      0      1      1      1      1   \n",
       "Julia            0      0      0      0      0      0      0      0      0   \n",
       "Kotlin           0      0      0      0      0      0      0      0      0   \n",
       "LISP             0      0      0      0      0      0      0      0      0   \n",
       "Matlab           0      0      0      0      0      0      0      0      0   \n",
       "Node.js          0      0      0      0      0      1      0      0      0   \n",
       "Objective-C      1      0      0      0      0      0      0      0      0   \n",
       "PHP              1      0      0      0      0      0      0      1      0   \n",
       "Perl             0      0      0      0      0      0      0      0      0   \n",
       "PowerShell       0      0      0      0      0      1      0      0      0   \n",
       "Python           0      1      1      0      1      1      0      0      0   \n",
       "R                0      0      1      0      0      0      0      0      0   \n",
       "Ruby             0      0      0      0      0      0      0      1      0   \n",
       "Rust             0      0      1      0      0      0      0      0      0   \n",
       "SQL              0      0      0      0      1      1      0      1      0   \n",
       "Scala            0      0      0      0      0      0      0      0      0   \n",
       "Swift            1      0      0      0      0      1      0      0      0   \n",
       "TypeScript       0      0      0      1      0      0      0      1      0   \n",
       "VBA              0      0      0      0      0      0      0      0      0   \n",
       "\n",
       "             9      ...  83429  83430  83431  83432  83433  83434  83435  \\\n",
       "APL              0  ...      0      1      0      0      0      0      0   \n",
       "Assembly         0  ...      0      0      0      0      0      0      0   \n",
       "Bash/Shell       0  ...      0      0      0      0      0      0      0   \n",
       "C                0  ...      0      0      0      0      0      0      0   \n",
       "C#               0  ...      0      0      1      0      0      0      0   \n",
       "C++              1  ...      0      0      0      0      0      0      0   \n",
       "COBOL            0  ...      0      0      0      0      0      0      0   \n",
       "Clojure          0  ...      0      1      0      0      0      1      0   \n",
       "Crystal          0  ...      0      0      0      0      0      0      0   \n",
       "Dart             0  ...      0      0      1      0      0      0      0   \n",
       "Delphi           0  ...      0      0      0      0      0      0      0   \n",
       "Elixir           0  ...      0      0      0      0      0      0      0   \n",
       "Erlang           0  ...      0      0      0      0      0      0      0   \n",
       "F#               0  ...      0      0      0      0      0      0      0   \n",
       "Go               0  ...      0      0      0      0      0      0      0   \n",
       "Groovy           0  ...      0      0      0      0      0      0      0   \n",
       "HTML/CSS         0  ...      1      0      1      0      0      0      0   \n",
       "Haskell          0  ...      0      0      0      0      0      0      0   \n",
       "Java             0  ...      0      0      1      0      1      0      0   \n",
       "JavaScript       0  ...      0      0      1      0      1      0      0   \n",
       "Julia            0  ...      0      0      0      0      0      0      0   \n",
       "Kotlin           0  ...      0      0      1      0      1      1      0   \n",
       "LISP             0  ...      0      1      0      0      0      0      0   \n",
       "Matlab           0  ...      0      0      0      0      0      0      0   \n",
       "Node.js          0  ...      0      0      1      0      0      0      0   \n",
       "Objective-C      0  ...      0      0      0      0      1      0      0   \n",
       "PHP              0  ...      1      0      1      0      0      0      0   \n",
       "Perl             0  ...      0      0      0      0      0      0      0   \n",
       "PowerShell       0  ...      1      0      0      0      0      0      0   \n",
       "Python           1  ...      1      1      1      0      0      0      0   \n",
       "R                0  ...      0      0      0      0      0      0      0   \n",
       "Ruby             0  ...      0      1      0      1      0      0      0   \n",
       "Rust             0  ...      0      0      0      0      0      0      0   \n",
       "SQL              0  ...      1      1      1      0      0      1      0   \n",
       "Scala            0  ...      0      0      0      0      0      0      0   \n",
       "Swift            0  ...      0      0      1      0      0      0      0   \n",
       "TypeScript       0  ...      0      1      1      0      1      0      0   \n",
       "VBA              0  ...      1      0      0      0      0      0      0   \n",
       "\n",
       "             83436  83437  83438  \n",
       "APL              0      0      0  \n",
       "Assembly         0      0      0  \n",
       "Bash/Shell       0      1      0  \n",
       "C                0      0      0  \n",
       "C#               0      0      0  \n",
       "C++              0      0      0  \n",
       "COBOL            0      0      0  \n",
       "Clojure          0      0      0  \n",
       "Crystal          0      0      0  \n",
       "Dart             0      0      0  \n",
       "Delphi           0      0      1  \n",
       "Elixir           0      0      1  \n",
       "Erlang           0      0      0  \n",
       "F#               0      0      0  \n",
       "Go               0      0      0  \n",
       "Groovy           1      0      0  \n",
       "HTML/CSS         0      0      1  \n",
       "Haskell          0      0      0  \n",
       "Java             1      0      1  \n",
       "JavaScript       0      1      1  \n",
       "Julia            0      0      0  \n",
       "Kotlin           0      0      0  \n",
       "LISP             0      0      0  \n",
       "Matlab           0      0      0  \n",
       "Node.js          0      1      0  \n",
       "Objective-C      0      0      0  \n",
       "PHP              0      0      0  \n",
       "Perl             0      0      0  \n",
       "PowerShell       0      0      0  \n",
       "Python           1      1      0  \n",
       "R                0      0      0  \n",
       "Ruby             0      0      0  \n",
       "Rust             0      0      0  \n",
       "SQL              0      0      0  \n",
       "Scala            0      0      0  \n",
       "Swift            0      0      0  \n",
       "TypeScript       0      0      0  \n",
       "VBA              0      0      0  \n",
       "\n",
       "[38 rows x 83439 columns]"
      ]
     },
     "execution_count": 27,
     "metadata": {},
     "output_type": "execute_result"
    }
   ],
   "source": [
    "# Look at the languages column to verify encoding process  \n",
    "df['LanguageHaveWorkedWith'].T"
   ]
  },
  {
   "cell_type": "markdown",
   "metadata": {},
   "source": [
    "-------"
   ]
  },
  {
   "cell_type": "markdown",
   "metadata": {},
   "source": [
    "## Display Jobs Frequency  "
   ]
  },
  {
   "cell_type": "code",
   "execution_count": 28,
   "metadata": {},
   "outputs": [
    {
     "data": {
      "text/html": [
       "<div>\n",
       "<style scoped>\n",
       "    .dataframe tbody tr th:only-of-type {\n",
       "        vertical-align: middle;\n",
       "    }\n",
       "\n",
       "    .dataframe tbody tr th {\n",
       "        vertical-align: top;\n",
       "    }\n",
       "\n",
       "    .dataframe thead th {\n",
       "        text-align: right;\n",
       "    }\n",
       "</style>\n",
       "<table border=\"1\" class=\"dataframe\">\n",
       "  <thead>\n",
       "    <tr style=\"text-align: right;\">\n",
       "      <th></th>\n",
       "      <th>index</th>\n",
       "      <th>0</th>\n",
       "    </tr>\n",
       "  </thead>\n",
       "  <tbody>\n",
       "    <tr>\n",
       "      <th>0</th>\n",
       "      <td>Marketing or sales professional</td>\n",
       "      <td>638</td>\n",
       "    </tr>\n",
       "    <tr>\n",
       "      <th>1</th>\n",
       "      <td>Scientist</td>\n",
       "      <td>2015</td>\n",
       "    </tr>\n",
       "    <tr>\n",
       "      <th>2</th>\n",
       "      <td>Senior Executive (C-Suite, VP, etc.)</td>\n",
       "      <td>2103</td>\n",
       "    </tr>\n",
       "    <tr>\n",
       "      <th>3</th>\n",
       "      <td>Developer, game or graphics</td>\n",
       "      <td>2112</td>\n",
       "    </tr>\n",
       "    <tr>\n",
       "      <th>4</th>\n",
       "      <td>Educator</td>\n",
       "      <td>2369</td>\n",
       "    </tr>\n",
       "    <tr>\n",
       "      <th>5</th>\n",
       "      <td>Engineer, site reliability</td>\n",
       "      <td>2448</td>\n",
       "    </tr>\n",
       "    <tr>\n",
       "      <th>6</th>\n",
       "      <td>Academic researcher</td>\n",
       "      <td>2899</td>\n",
       "    </tr>\n",
       "    <tr>\n",
       "      <th>7</th>\n",
       "      <td>Product manager</td>\n",
       "      <td>3074</td>\n",
       "    </tr>\n",
       "    <tr>\n",
       "      <th>8</th>\n",
       "      <td>Other (please specify):</td>\n",
       "      <td>3545</td>\n",
       "    </tr>\n",
       "    <tr>\n",
       "      <th>9</th>\n",
       "      <td>Developer, QA or test</td>\n",
       "      <td>3611</td>\n",
       "    </tr>\n",
       "    <tr>\n",
       "      <th>10</th>\n",
       "      <td>Data or business analyst</td>\n",
       "      <td>3792</td>\n",
       "    </tr>\n",
       "    <tr>\n",
       "      <th>11</th>\n",
       "      <td>Engineering manager</td>\n",
       "      <td>3810</td>\n",
       "    </tr>\n",
       "    <tr>\n",
       "      <th>12</th>\n",
       "      <td>Engineer, data</td>\n",
       "      <td>4176</td>\n",
       "    </tr>\n",
       "    <tr>\n",
       "      <th>13</th>\n",
       "      <td>Student</td>\n",
       "      <td>4187</td>\n",
       "    </tr>\n",
       "    <tr>\n",
       "      <th>14</th>\n",
       "      <td>Data scientist or machine learning specialist</td>\n",
       "      <td>4273</td>\n",
       "    </tr>\n",
       "    <tr>\n",
       "      <th>15</th>\n",
       "      <td>Developer, embedded applications or devices</td>\n",
       "      <td>4598</td>\n",
       "    </tr>\n",
       "    <tr>\n",
       "      <th>16</th>\n",
       "      <td>Designer</td>\n",
       "      <td>4611</td>\n",
       "    </tr>\n",
       "    <tr>\n",
       "      <th>17</th>\n",
       "      <td>Database administrator</td>\n",
       "      <td>5655</td>\n",
       "    </tr>\n",
       "    <tr>\n",
       "      <th>18</th>\n",
       "      <td>System administrator</td>\n",
       "      <td>6079</td>\n",
       "    </tr>\n",
       "    <tr>\n",
       "      <th>19</th>\n",
       "      <td>DevOps specialist</td>\n",
       "      <td>7058</td>\n",
       "    </tr>\n",
       "    <tr>\n",
       "      <th>20</th>\n",
       "      <td>Developer, mobile</td>\n",
       "      <td>9800</td>\n",
       "    </tr>\n",
       "    <tr>\n",
       "      <th>21</th>\n",
       "      <td>Developer, desktop or enterprise applications</td>\n",
       "      <td>11036</td>\n",
       "    </tr>\n",
       "    <tr>\n",
       "      <th>22</th>\n",
       "      <td>Developer, front-end</td>\n",
       "      <td>18231</td>\n",
       "    </tr>\n",
       "    <tr>\n",
       "      <th>23</th>\n",
       "      <td>Developer, back-end</td>\n",
       "      <td>29071</td>\n",
       "    </tr>\n",
       "    <tr>\n",
       "      <th>24</th>\n",
       "      <td>Developer, full-stack</td>\n",
       "      <td>32891</td>\n",
       "    </tr>\n",
       "  </tbody>\n",
       "</table>\n",
       "</div>"
      ],
      "text/plain": [
       "                                            index      0\n",
       "0                 Marketing or sales professional    638\n",
       "1                                       Scientist   2015\n",
       "2            Senior Executive (C-Suite, VP, etc.)   2103\n",
       "3                     Developer, game or graphics   2112\n",
       "4                                        Educator   2369\n",
       "5                      Engineer, site reliability   2448\n",
       "6                             Academic researcher   2899\n",
       "7                                 Product manager   3074\n",
       "8                         Other (please specify):   3545\n",
       "9                           Developer, QA or test   3611\n",
       "10                       Data or business analyst   3792\n",
       "11                            Engineering manager   3810\n",
       "12                                 Engineer, data   4176\n",
       "13                                        Student   4187\n",
       "14  Data scientist or machine learning specialist   4273\n",
       "15    Developer, embedded applications or devices   4598\n",
       "16                                       Designer   4611\n",
       "17                         Database administrator   5655\n",
       "18                           System administrator   6079\n",
       "19                              DevOps specialist   7058\n",
       "20                              Developer, mobile   9800\n",
       "21  Developer, desktop or enterprise applications  11036\n",
       "22                           Developer, front-end  18231\n",
       "23                            Developer, back-end  29071\n",
       "24                          Developer, full-stack  32891"
      ]
     },
     "execution_count": 28,
     "metadata": {},
     "output_type": "execute_result"
    }
   ],
   "source": [
    "jobs_freq = df['DevType'].copy().sum().sort_values().reset_index()\n",
    "jobs_freq"
   ]
  },
  {
   "cell_type": "markdown",
   "metadata": {},
   "source": [
    "--------"
   ]
  },
  {
   "cell_type": "markdown",
   "metadata": {},
   "source": [
    "## Display Skills Frequency"
   ]
  },
  {
   "cell_type": "code",
   "execution_count": 39,
   "metadata": {},
   "outputs": [
    {
     "data": {
      "text/html": [
       "<div>\n",
       "<style scoped>\n",
       "    .dataframe tbody tr th:only-of-type {\n",
       "        vertical-align: middle;\n",
       "    }\n",
       "\n",
       "    .dataframe tbody tr th {\n",
       "        vertical-align: top;\n",
       "    }\n",
       "\n",
       "    .dataframe thead th {\n",
       "        text-align: right;\n",
       "    }\n",
       "</style>\n",
       "<table border=\"1\" class=\"dataframe\">\n",
       "  <thead>\n",
       "    <tr style=\"text-align: right;\">\n",
       "      <th></th>\n",
       "      <th>group</th>\n",
       "      <th>skill</th>\n",
       "      <th>freq</th>\n",
       "    </tr>\n",
       "  </thead>\n",
       "  <tbody>\n",
       "    <tr>\n",
       "      <th>171</th>\n",
       "      <td>ToolsTechHaveWorkedWith</td>\n",
       "      <td>Git</td>\n",
       "      <td>68171</td>\n",
       "    </tr>\n",
       "    <tr>\n",
       "      <th>185</th>\n",
       "      <td>ToolsTechWantToWorkWith</td>\n",
       "      <td>Git</td>\n",
       "      <td>58308</td>\n",
       "    </tr>\n",
       "    <tr>\n",
       "      <th>212</th>\n",
       "      <td>NEWCollabToolsHaveWorkedWith</td>\n",
       "      <td>Visual Studio Code</td>\n",
       "      <td>58026</td>\n",
       "    </tr>\n",
       "    <tr>\n",
       "      <th>19</th>\n",
       "      <td>LanguageHaveWorkedWith</td>\n",
       "      <td>JavaScript</td>\n",
       "      <td>53587</td>\n",
       "    </tr>\n",
       "    <tr>\n",
       "      <th>233</th>\n",
       "      <td>NEWCollabToolsWantToWorkWith</td>\n",
       "      <td>Visual Studio Code</td>\n",
       "      <td>48360</td>\n",
       "    </tr>\n",
       "    <tr>\n",
       "      <th>...</th>\n",
       "      <td>...</td>\n",
       "      <td>...</td>\n",
       "      <td>...</td>\n",
       "    </tr>\n",
       "    <tr>\n",
       "      <th>8</th>\n",
       "      <td>LanguageHaveWorkedWith</td>\n",
       "      <td>Crystal</td>\n",
       "      <td>466</td>\n",
       "    </tr>\n",
       "    <tr>\n",
       "      <th>6</th>\n",
       "      <td>LanguageHaveWorkedWith</td>\n",
       "      <td>COBOL</td>\n",
       "      <td>437</td>\n",
       "    </tr>\n",
       "    <tr>\n",
       "      <th>230</th>\n",
       "      <td>NEWCollabToolsWantToWorkWith</td>\n",
       "      <td>TextMate</td>\n",
       "      <td>396</td>\n",
       "    </tr>\n",
       "    <tr>\n",
       "      <th>173</th>\n",
       "      <td>ToolsTechHaveWorkedWith</td>\n",
       "      <td>Pulumi</td>\n",
       "      <td>368</td>\n",
       "    </tr>\n",
       "    <tr>\n",
       "      <th>44</th>\n",
       "      <td>LanguageWantToWorkWith</td>\n",
       "      <td>COBOL</td>\n",
       "      <td>309</td>\n",
       "    </tr>\n",
       "  </tbody>\n",
       "</table>\n",
       "<p>236 rows × 3 columns</p>\n",
       "</div>"
      ],
      "text/plain": [
       "                            group               skill   freq\n",
       "171       ToolsTechHaveWorkedWith                 Git  68171\n",
       "185       ToolsTechWantToWorkWith                 Git  58308\n",
       "212  NEWCollabToolsHaveWorkedWith  Visual Studio Code  58026\n",
       "19         LanguageHaveWorkedWith          JavaScript  53587\n",
       "233  NEWCollabToolsWantToWorkWith  Visual Studio Code  48360\n",
       "..                            ...                 ...    ...\n",
       "8          LanguageHaveWorkedWith             Crystal    466\n",
       "6          LanguageHaveWorkedWith               COBOL    437\n",
       "230  NEWCollabToolsWantToWorkWith            TextMate    396\n",
       "173       ToolsTechHaveWorkedWith              Pulumi    368\n",
       "44         LanguageWantToWorkWith               COBOL    309\n",
       "\n",
       "[236 rows x 3 columns]"
      ]
     },
     "execution_count": 39,
     "metadata": {},
     "output_type": "execute_result"
    }
   ],
   "source": [
    "# Calculate the sum for all cols except DevTypes\n",
    "skills_freq = df.copy().drop('DevType', axis = 1).sum().reset_index()\n",
    "skills_freq.columns = ['group' , 'skill' , 'freq']\n",
    "sorted_skills = skills_freq.sort_values('freq' ,ascending=False)\n",
    "sorted_skills"
   ]
  },
  {
   "cell_type": "code",
   "execution_count": 40,
   "metadata": {},
   "outputs": [
    {
     "data": {
      "application/vnd.plotly.v1+json": {
       "config": {
        "plotlyServerURL": "https://plot.ly"
       },
       "data": [
        {
         "branchvalues": "total",
         "customdata": [
          [
           15310
          ],
          [
           13630
          ],
          [
           16620
          ],
          [
           7761
          ],
          [
           536
          ],
          [
           568
          ],
          [
           9918
          ],
          [
           4488
          ],
          [
           11404
          ],
          [
           10454
          ],
          [
           29138
          ],
          [
           26295
          ],
          [
           18141
          ],
          [
           11916
          ],
          [
           14471
          ],
          [
           11533
          ],
          [
           7242
          ],
          [
           4293
          ],
          [
           5607
          ],
          [
           5876
          ],
          [
           2833
          ],
          [
           3453
          ],
          [
           4632
          ],
          [
           3578
          ],
          [
           10564
          ],
          [
           4224
          ],
          [
           22385
          ],
          [
           14043
          ],
          [
           17329
          ],
          [
           9702
          ],
          [
           22984
          ],
          [
           17999
          ],
          [
           20057
          ],
          [
           15249
          ],
          [
           437
          ],
          [
           309
          ],
          [
           1873
          ],
          [
           982
          ],
          [
           1119
          ],
          [
           1552
          ],
          [
           2413
          ],
          [
           3491
          ],
          [
           1475
          ],
          [
           1106
          ],
          [
           466
          ],
          [
           790
          ],
          [
           4965
          ],
          [
           7018
          ],
          [
           1731
          ],
          [
           975
          ],
          [
           1027
          ],
          [
           4773
          ],
          [
           9495
          ],
          [
           8674
          ],
          [
           9446
          ],
          [
           9112
          ],
          [
           35644
          ],
          [
           37870
          ],
          [
           1508
          ],
          [
           653
          ],
          [
           5137
          ],
          [
           12955
          ],
          [
           4592
          ],
          [
           9331
          ],
          [
           1438
          ],
          [
           3374
          ],
          [
           4327
          ],
          [
           3736
          ],
          [
           651
          ],
          [
           1379
          ],
          [
           15010
          ],
          [
           11885
          ],
          [
           804
          ],
          [
           2157
          ],
          [
           2447
          ],
          [
           3989
          ],
          [
           11373
          ],
          [
           10174
          ],
          [
           7594
          ],
          [
           929
          ],
          [
           974
          ],
          [
           6586
          ],
          [
           9212
          ],
          [
           2501
          ],
          [
           2830
          ],
          [
           68171
          ],
          [
           58308
          ],
          [
           7879
          ],
          [
           15788
          ],
          [
           16687
          ],
          [
           16228
          ],
          [
           2479
          ],
          [
           1177
          ],
          [
           46259
          ],
          [
           29353
          ],
          [
           2155
          ],
          [
           2802
          ],
          [
           1749
          ],
          [
           3453
          ],
          [
           12897
          ],
          [
           8182
          ],
          [
           1373
          ],
          [
           1768
          ],
          [
           1438
          ],
          [
           10310
          ],
          [
           7931
          ],
          [
           23467
          ],
          [
           17777
          ],
          [
           29162
          ],
          [
           17222
          ],
          [
           53587
          ],
          [
           37008
          ],
          [
           1068
          ],
          [
           2445
          ],
          [
           4930
          ],
          [
           5190
          ],
          [
           6866
          ],
          [
           10691
          ],
          [
           12115
          ],
          [
           21977
          ],
          [
           1096
          ],
          [
           1513
          ],
          [
           6377
          ],
          [
           4734
          ],
          [
           12088
          ],
          [
           3846
          ],
          [
           1562
          ],
          [
           16540
          ],
          [
           15096
          ],
          [
           18896
          ],
          [
           19479
          ],
          [
           35289
          ],
          [
           4071
          ],
          [
           4293
          ],
          [
           5839
          ],
          [
           1652
          ],
          [
           27975
          ],
          [
           24100
          ],
          [
           24262
          ],
          [
           13916
          ],
          [
           16445
          ],
          [
           12773
          ],
          [
           2310
          ],
          [
           1400
          ],
          [
           8868
          ],
          [
           1014
          ],
          [
           1398
          ],
          [
           18130
          ],
          [
           8852
          ],
          [
           6096
          ],
          [
           4044
          ],
          [
           13664
          ],
          [
           10863
          ],
          [
           2028
          ],
          [
           1175
          ],
          [
           28424
          ],
          [
           8871
          ],
          [
           4896
          ],
          [
           368
          ],
          [
           901
          ],
          [
           1313
          ],
          [
           1428
          ],
          [
           15755
          ],
          [
           11343
          ],
          [
           39792
          ],
          [
           34929
          ],
          [
           4812
          ],
          [
           3478
          ],
          [
           4185
          ],
          [
           4015
          ],
          [
           3200
          ],
          [
           2095
          ],
          [
           7051
          ],
          [
           8621
          ],
          [
           25296
          ],
          [
           25718
          ],
          [
           14552
          ],
          [
           3255
          ],
          [
           3210
          ],
          [
           5569
          ],
          [
           4942
          ],
          [
           4438
          ],
          [
           4249
          ],
          [
           1219
          ],
          [
           1021
          ],
          [
           5799
          ],
          [
           15865
          ],
          [
           38835
          ],
          [
           26631
          ],
          [
           22634
          ],
          [
           2148
          ],
          [
           3165
          ],
          [
           9177
          ],
          [
           7229
          ],
          [
           16714
          ],
          [
           9326
          ],
          [
           1735
          ],
          [
           5235
          ],
          [
           4204
          ],
          [
           6353
          ],
          [
           2427
          ],
          [
           1786
          ],
          [
           8034
          ],
          [
           11879
          ],
          [
           5442
          ],
          [
           7756
          ],
          [
           678
          ],
          [
           396
          ],
          [
           4808
          ],
          [
           7977
          ],
          [
           24909
          ],
          [
           26905
          ],
          [
           7206
          ],
          [
           8285
          ],
          [
           2339
          ],
          [
           5563
          ],
          [
           3847
          ],
          [
           1069
          ],
          [
           19752
          ],
          [
           15620
          ],
          [
           26970
          ],
          [
           17580
          ],
          [
           58026
          ],
          [
           48360
          ],
          [
           11954
          ],
          [
           15784
          ],
          [
           6564
          ],
          [
           5311
          ],
          [
           2844
          ],
          [
           2977
          ],
          [
           9040
          ],
          [
           7596
          ],
          [
           12937
          ],
          [
           9936
          ],
          [
           21693
          ],
          [
           8487
          ],
          [
           20936.479200789552
          ],
          [
           28957.47648228489
          ],
          [
           20695.22738372205
          ],
          [
           11437.568995399994
          ],
          [
           9605.834655043687
          ],
          [
           25321.11167653491
          ],
          [
           20486.653861661027
          ],
          [
           19054.112411640504
          ],
          [
           17129.195309179428
          ],
          [
           40549.566439805254
          ],
          [
           33662.44418545036
          ],
          [
           13931.995048379958
          ],
          [
           12088.736414071816
          ]
         ],
         "domain": {
          "x": [
           0,
           1
          ],
          "y": [
           0,
           1
          ]
         },
         "hovertemplate": "labels=%{label}<br>freq_sum=%{value}<br>parent=%{parent}<br>id=%{id}<br>freq=%{color}<extra></extra>",
         "ids": [
          "MiscTechHaveWorkedWith/.NET Core / .NET 5",
          "MiscTechWantToWorkWith/.NET Core / .NET 5",
          "MiscTechHaveWorkedWith/.NET Framework",
          "MiscTechWantToWorkWith/.NET Framework",
          "LanguageHaveWorkedWith/APL",
          "LanguageWantToWorkWith/APL",
          "WebframeHaveWorkedWith/ASP.NET",
          "WebframeWantToWorkWith/ASP.NET",
          "WebframeHaveWorkedWith/ASP.NET Core ",
          "WebframeWantToWorkWith/ASP.NET Core ",
          "PlatformHaveWorkedWith/AWS",
          "PlatformWantToWorkWith/AWS",
          "NEWCollabToolsHaveWorkedWith/Android Studio",
          "NEWCollabToolsWantToWorkWith/Android Studio",
          "WebframeHaveWorkedWith/Angular",
          "WebframeWantToWorkWith/Angular",
          "WebframeHaveWorkedWith/Angular.js",
          "WebframeWantToWorkWith/Angular.js",
          "ToolsTechHaveWorkedWith/Ansible",
          "ToolsTechWantToWorkWith/Ansible",
          "MiscTechHaveWorkedWith/Apache Spark",
          "MiscTechWantToWorkWith/Apache Spark",
          "LanguageHaveWorkedWith/Assembly",
          "LanguageWantToWorkWith/Assembly",
          "NEWCollabToolsHaveWorkedWith/Atom",
          "NEWCollabToolsWantToWorkWith/Atom",
          "LanguageHaveWorkedWith/Bash/Shell",
          "LanguageWantToWorkWith/Bash/Shell",
          "LanguageHaveWorkedWith/C",
          "LanguageWantToWorkWith/C",
          "LanguageHaveWorkedWith/C#",
          "LanguageWantToWorkWith/C#",
          "LanguageHaveWorkedWith/C++",
          "LanguageWantToWorkWith/C++",
          "LanguageHaveWorkedWith/COBOL",
          "LanguageWantToWorkWith/COBOL",
          "DatabaseHaveWorkedWith/Cassandra",
          "ToolsTechHaveWorkedWith/Chef",
          "ToolsTechWantToWorkWith/Chef",
          "LanguageHaveWorkedWith/Clojure",
          "LanguageWantToWorkWith/Clojure",
          "MiscTechHaveWorkedWith/Cordova",
          "MiscTechWantToWorkWith/Cordova",
          "DatabaseHaveWorkedWith/Couchbase",
          "LanguageHaveWorkedWith/Crystal",
          "LanguageWantToWorkWith/Crystal",
          "LanguageHaveWorkedWith/Dart",
          "LanguageWantToWorkWith/Dart",
          "LanguageHaveWorkedWith/Delphi",
          "LanguageWantToWorkWith/Delphi",
          "ToolsTechHaveWorkedWith/Deno",
          "ToolsTechWantToWorkWith/Deno",
          "PlatformHaveWorkedWith/DigitalOcean",
          "PlatformWantToWorkWith/DigitalOcean",
          "WebframeHaveWorkedWith/Django",
          "WebframeWantToWorkWith/Django",
          "ToolsTechHaveWorkedWith/Docker",
          "ToolsTechWantToWorkWith/Docker",
          "WebframeHaveWorkedWith/Drupal",
          "WebframeWantToWorkWith/Drupal",
          "DatabaseHaveWorkedWith/DynamoDB",
          "NEWCollabToolsHaveWorkedWith/Eclipse",
          "NEWCollabToolsWantToWorkWith/Eclipse",
          "DatabaseHaveWorkedWith/Elasticsearch",
          "LanguageHaveWorkedWith/Elixir",
          "LanguageWantToWorkWith/Elixir",
          "NEWCollabToolsHaveWorkedWith/Emacs",
          "NEWCollabToolsWantToWorkWith/Emacs",
          "LanguageHaveWorkedWith/Erlang",
          "LanguageWantToWorkWith/Erlang",
          "WebframeHaveWorkedWith/Express",
          "WebframeWantToWorkWith/Express",
          "LanguageHaveWorkedWith/F#",
          "LanguageWantToWorkWith/F#",
          "WebframeHaveWorkedWith/FastAPI",
          "WebframeWantToWorkWith/FastAPI",
          "DatabaseHaveWorkedWith/Firebase",
          "WebframeHaveWorkedWith/Flask",
          "WebframeWantToWorkWith/Flask",
          "ToolsTechHaveWorkedWith/Flow",
          "ToolsTechWantToWorkWith/Flow",
          "MiscTechHaveWorkedWith/Flutter",
          "MiscTechWantToWorkWith/Flutter",
          "WebframeHaveWorkedWith/Gatsby",
          "WebframeWantToWorkWith/Gatsby",
          "ToolsTechHaveWorkedWith/Git",
          "ToolsTechWantToWorkWith/Git",
          "LanguageHaveWorkedWith/Go",
          "LanguageWantToWorkWith/Go",
          "PlatformHaveWorkedWith/Google Cloud Platform",
          "PlatformWantToWorkWith/Google Cloud Platform",
          "LanguageHaveWorkedWith/Groovy",
          "LanguageWantToWorkWith/Groovy",
          "LanguageHaveWorkedWith/HTML/CSS",
          "LanguageWantToWorkWith/HTML/CSS",
          "MiscTechHaveWorkedWith/Hadoop",
          "MiscTechWantToWorkWith/Hadoop",
          "LanguageHaveWorkedWith/Haskell",
          "LanguageWantToWorkWith/Haskell",
          "PlatformHaveWorkedWith/Heroku",
          "PlatformWantToWorkWith/Heroku",
          "PlatformHaveWorkedWith/IBM Cloud or Watson",
          "PlatformWantToWorkWith/IBM Cloud or Watson",
          "DatabaseHaveWorkedWith/IBM DB2",
          "NEWCollabToolsHaveWorkedWith/IPython/Jupyter",
          "NEWCollabToolsWantToWorkWith/IPython/Jupyter",
          "NEWCollabToolsHaveWorkedWith/IntelliJ",
          "NEWCollabToolsWantToWorkWith/IntelliJ",
          "LanguageHaveWorkedWith/Java",
          "LanguageWantToWorkWith/Java",
          "LanguageHaveWorkedWith/JavaScript",
          "LanguageWantToWorkWith/JavaScript",
          "LanguageHaveWorkedWith/Julia",
          "LanguageWantToWorkWith/Julia",
          "MiscTechHaveWorkedWith/Keras",
          "MiscTechWantToWorkWith/Keras",
          "LanguageHaveWorkedWith/Kotlin",
          "LanguageWantToWorkWith/Kotlin",
          "ToolsTechHaveWorkedWith/Kubernetes",
          "ToolsTechWantToWorkWith/Kubernetes",
          "LanguageHaveWorkedWith/LISP",
          "LanguageWantToWorkWith/LISP",
          "WebframeHaveWorkedWith/Laravel",
          "WebframeWantToWorkWith/Laravel",
          "DatabaseHaveWorkedWith/MariaDB",
          "LanguageHaveWorkedWith/Matlab",
          "LanguageWantToWorkWith/Matlab",
          "PlatformHaveWorkedWith/Microsoft Azure",
          "PlatformWantToWorkWith/Microsoft Azure",
          "DatabaseHaveWorkedWith/Microsoft SQL Server",
          "DatabaseHaveWorkedWith/MongoDB",
          "DatabaseHaveWorkedWith/MySQL",
          "NEWCollabToolsHaveWorkedWith/Neovim",
          "NEWCollabToolsWantToWorkWith/Neovim",
          "NEWCollabToolsHaveWorkedWith/NetBeans",
          "NEWCollabToolsWantToWorkWith/NetBeans",
          "LanguageHaveWorkedWith/Node.js",
          "LanguageWantToWorkWith/Node.js",
          "NEWCollabToolsHaveWorkedWith/Notepad++",
          "NEWCollabToolsWantToWorkWith/Notepad++",
          "MiscTechHaveWorkedWith/NumPy",
          "MiscTechWantToWorkWith/NumPy",
          "LanguageHaveWorkedWith/Objective-C",
          "LanguageWantToWorkWith/Objective-C",
          "DatabaseHaveWorkedWith/Oracle",
          "PlatformHaveWorkedWith/Oracle Cloud Infrastructure",
          "PlatformWantToWorkWith/Oracle Cloud Infrastructure",
          "LanguageHaveWorkedWith/PHP",
          "LanguageWantToWorkWith/PHP",
          "NEWCollabToolsHaveWorkedWith/PHPStorm",
          "NEWCollabToolsWantToWorkWith/PHPStorm",
          "MiscTechHaveWorkedWith/Pandas",
          "MiscTechWantToWorkWith/Pandas",
          "LanguageHaveWorkedWith/Perl",
          "LanguageWantToWorkWith/Perl",
          "DatabaseHaveWorkedWith/PostgreSQL",
          "LanguageHaveWorkedWith/PowerShell",
          "LanguageWantToWorkWith/PowerShell",
          "ToolsTechHaveWorkedWith/Pulumi",
          "ToolsTechWantToWorkWith/Pulumi",
          "ToolsTechHaveWorkedWith/Puppet",
          "ToolsTechWantToWorkWith/Puppet",
          "NEWCollabToolsHaveWorkedWith/PyCharm",
          "NEWCollabToolsWantToWorkWith/PyCharm",
          "LanguageHaveWorkedWith/Python",
          "LanguageWantToWorkWith/Python",
          "MiscTechHaveWorkedWith/Qt",
          "MiscTechWantToWorkWith/Qt",
          "LanguageHaveWorkedWith/R",
          "LanguageWantToWorkWith/R",
          "NEWCollabToolsHaveWorkedWith/RStudio",
          "NEWCollabToolsWantToWorkWith/RStudio",
          "MiscTechHaveWorkedWith/React Native",
          "MiscTechWantToWorkWith/React Native",
          "WebframeHaveWorkedWith/React.js",
          "WebframeWantToWorkWith/React.js",
          "DatabaseHaveWorkedWith/Redis",
          "NEWCollabToolsHaveWorkedWith/Rider",
          "NEWCollabToolsWantToWorkWith/Rider",
          "LanguageHaveWorkedWith/Ruby",
          "LanguageWantToWorkWith/Ruby",
          "WebframeHaveWorkedWith/Ruby on Rails",
          "WebframeWantToWorkWith/Ruby on Rails",
          "NEWCollabToolsHaveWorkedWith/RubyMine",
          "NEWCollabToolsWantToWorkWith/RubyMine",
          "LanguageHaveWorkedWith/Rust",
          "LanguageWantToWorkWith/Rust",
          "LanguageHaveWorkedWith/SQL",
          "LanguageWantToWorkWith/SQL",
          "DatabaseHaveWorkedWith/SQLite",
          "LanguageHaveWorkedWith/Scala",
          "LanguageWantToWorkWith/Scala",
          "WebframeHaveWorkedWith/Spring",
          "WebframeWantToWorkWith/Spring",
          "NEWCollabToolsHaveWorkedWith/Sublime Text",
          "NEWCollabToolsWantToWorkWith/Sublime Text",
          "WebframeHaveWorkedWith/Svelte",
          "WebframeWantToWorkWith/Svelte",
          "LanguageHaveWorkedWith/Swift",
          "LanguageWantToWorkWith/Swift",
          "WebframeHaveWorkedWith/Symfony",
          "WebframeWantToWorkWith/Symfony",
          "MiscTechHaveWorkedWith/TensorFlow",
          "MiscTechWantToWorkWith/TensorFlow",
          "ToolsTechHaveWorkedWith/Terraform",
          "ToolsTechWantToWorkWith/Terraform",
          "NEWCollabToolsHaveWorkedWith/TextMate",
          "NEWCollabToolsWantToWorkWith/TextMate",
          "MiscTechHaveWorkedWith/Torch/PyTorch",
          "MiscTechWantToWorkWith/Torch/PyTorch",
          "LanguageHaveWorkedWith/TypeScript",
          "LanguageWantToWorkWith/TypeScript",
          "ToolsTechHaveWorkedWith/Unity 3D",
          "ToolsTechWantToWorkWith/Unity 3D",
          "ToolsTechHaveWorkedWith/Unreal Engine",
          "ToolsTechWantToWorkWith/Unreal Engine",
          "LanguageHaveWorkedWith/VBA",
          "LanguageWantToWorkWith/VBA",
          "NEWCollabToolsHaveWorkedWith/Vim",
          "NEWCollabToolsWantToWorkWith/Vim",
          "NEWCollabToolsHaveWorkedWith/Visual Studio",
          "NEWCollabToolsWantToWorkWith/Visual Studio",
          "NEWCollabToolsHaveWorkedWith/Visual Studio Code",
          "NEWCollabToolsWantToWorkWith/Visual Studio Code",
          "WebframeHaveWorkedWith/Vue.js",
          "WebframeWantToWorkWith/Vue.js",
          "NEWCollabToolsHaveWorkedWith/Webstorm",
          "NEWCollabToolsWantToWorkWith/Webstorm",
          "ToolsTechHaveWorkedWith/Xamarin",
          "ToolsTechWantToWorkWith/Xamarin",
          "NEWCollabToolsHaveWorkedWith/Xcode",
          "NEWCollabToolsWantToWorkWith/Xcode",
          "ToolsTechHaveWorkedWith/Yarn",
          "ToolsTechWantToWorkWith/Yarn",
          "WebframeHaveWorkedWith/jQuery",
          "WebframeWantToWorkWith/jQuery",
          "DatabaseHaveWorkedWith",
          "LanguageHaveWorkedWith",
          "LanguageWantToWorkWith",
          "MiscTechHaveWorkedWith",
          "MiscTechWantToWorkWith",
          "NEWCollabToolsHaveWorkedWith",
          "NEWCollabToolsWantToWorkWith",
          "PlatformHaveWorkedWith",
          "PlatformWantToWorkWith",
          "ToolsTechHaveWorkedWith",
          "ToolsTechWantToWorkWith",
          "WebframeHaveWorkedWith",
          "WebframeWantToWorkWith"
         ],
         "labels": [
          ".NET Core / .NET 5",
          ".NET Core / .NET 5",
          ".NET Framework",
          ".NET Framework",
          "APL",
          "APL",
          "ASP.NET",
          "ASP.NET",
          "ASP.NET Core ",
          "ASP.NET Core ",
          "AWS",
          "AWS",
          "Android Studio",
          "Android Studio",
          "Angular",
          "Angular",
          "Angular.js",
          "Angular.js",
          "Ansible",
          "Ansible",
          "Apache Spark",
          "Apache Spark",
          "Assembly",
          "Assembly",
          "Atom",
          "Atom",
          "Bash/Shell",
          "Bash/Shell",
          "C",
          "C",
          "C#",
          "C#",
          "C++",
          "C++",
          "COBOL",
          "COBOL",
          "Cassandra",
          "Chef",
          "Chef",
          "Clojure",
          "Clojure",
          "Cordova",
          "Cordova",
          "Couchbase",
          "Crystal",
          "Crystal",
          "Dart",
          "Dart",
          "Delphi",
          "Delphi",
          "Deno",
          "Deno",
          "DigitalOcean",
          "DigitalOcean",
          "Django",
          "Django",
          "Docker",
          "Docker",
          "Drupal",
          "Drupal",
          "DynamoDB",
          "Eclipse",
          "Eclipse",
          "Elasticsearch",
          "Elixir",
          "Elixir",
          "Emacs",
          "Emacs",
          "Erlang",
          "Erlang",
          "Express",
          "Express",
          "F#",
          "F#",
          "FastAPI",
          "FastAPI",
          "Firebase",
          "Flask",
          "Flask",
          "Flow",
          "Flow",
          "Flutter",
          "Flutter",
          "Gatsby",
          "Gatsby",
          "Git",
          "Git",
          "Go",
          "Go",
          "Google Cloud Platform",
          "Google Cloud Platform",
          "Groovy",
          "Groovy",
          "HTML/CSS",
          "HTML/CSS",
          "Hadoop",
          "Hadoop",
          "Haskell",
          "Haskell",
          "Heroku",
          "Heroku",
          "IBM Cloud or Watson",
          "IBM Cloud or Watson",
          "IBM DB2",
          "IPython/Jupyter",
          "IPython/Jupyter",
          "IntelliJ",
          "IntelliJ",
          "Java",
          "Java",
          "JavaScript",
          "JavaScript",
          "Julia",
          "Julia",
          "Keras",
          "Keras",
          "Kotlin",
          "Kotlin",
          "Kubernetes",
          "Kubernetes",
          "LISP",
          "LISP",
          "Laravel",
          "Laravel",
          "MariaDB",
          "Matlab",
          "Matlab",
          "Microsoft Azure",
          "Microsoft Azure",
          "Microsoft SQL Server",
          "MongoDB",
          "MySQL",
          "Neovim",
          "Neovim",
          "NetBeans",
          "NetBeans",
          "Node.js",
          "Node.js",
          "Notepad++",
          "Notepad++",
          "NumPy",
          "NumPy",
          "Objective-C",
          "Objective-C",
          "Oracle",
          "Oracle Cloud Infrastructure",
          "Oracle Cloud Infrastructure",
          "PHP",
          "PHP",
          "PHPStorm",
          "PHPStorm",
          "Pandas",
          "Pandas",
          "Perl",
          "Perl",
          "PostgreSQL",
          "PowerShell",
          "PowerShell",
          "Pulumi",
          "Pulumi",
          "Puppet",
          "Puppet",
          "PyCharm",
          "PyCharm",
          "Python",
          "Python",
          "Qt",
          "Qt",
          "R",
          "R",
          "RStudio",
          "RStudio",
          "React Native",
          "React Native",
          "React.js",
          "React.js",
          "Redis",
          "Rider",
          "Rider",
          "Ruby",
          "Ruby",
          "Ruby on Rails",
          "Ruby on Rails",
          "RubyMine",
          "RubyMine",
          "Rust",
          "Rust",
          "SQL",
          "SQL",
          "SQLite",
          "Scala",
          "Scala",
          "Spring",
          "Spring",
          "Sublime Text",
          "Sublime Text",
          "Svelte",
          "Svelte",
          "Swift",
          "Swift",
          "Symfony",
          "Symfony",
          "TensorFlow",
          "TensorFlow",
          "Terraform",
          "Terraform",
          "TextMate",
          "TextMate",
          "Torch/PyTorch",
          "Torch/PyTorch",
          "TypeScript",
          "TypeScript",
          "Unity 3D",
          "Unity 3D",
          "Unreal Engine",
          "Unreal Engine",
          "VBA",
          "VBA",
          "Vim",
          "Vim",
          "Visual Studio",
          "Visual Studio",
          "Visual Studio Code",
          "Visual Studio Code",
          "Vue.js",
          "Vue.js",
          "Webstorm",
          "Webstorm",
          "Xamarin",
          "Xamarin",
          "Xcode",
          "Xcode",
          "Yarn",
          "Yarn",
          "jQuery",
          "jQuery",
          "DatabaseHaveWorkedWith",
          "LanguageHaveWorkedWith",
          "LanguageWantToWorkWith",
          "MiscTechHaveWorkedWith",
          "MiscTechWantToWorkWith",
          "NEWCollabToolsHaveWorkedWith",
          "NEWCollabToolsWantToWorkWith",
          "PlatformHaveWorkedWith",
          "PlatformWantToWorkWith",
          "ToolsTechHaveWorkedWith",
          "ToolsTechWantToWorkWith",
          "WebframeHaveWorkedWith",
          "WebframeWantToWorkWith"
         ],
         "marker": {
          "coloraxis": "coloraxis",
          "colors": [
           15310,
           13630,
           16620,
           7761,
           536,
           568,
           9918,
           4488,
           11404,
           10454,
           29138,
           26295,
           18141,
           11916,
           14471,
           11533,
           7242,
           4293,
           5607,
           5876,
           2833,
           3453,
           4632,
           3578,
           10564,
           4224,
           22385,
           14043,
           17329,
           9702,
           22984,
           17999,
           20057,
           15249,
           437,
           309,
           1873,
           982,
           1119,
           1552,
           2413,
           3491,
           1475,
           1106,
           466,
           790,
           4965,
           7018,
           1731,
           975,
           1027,
           4773,
           9495,
           8674,
           9446,
           9112,
           35644,
           37870,
           1508,
           653,
           5137,
           12955,
           4592,
           9331,
           1438,
           3374,
           4327,
           3736,
           651,
           1379,
           15010,
           11885,
           804,
           2157,
           2447,
           3989,
           11373,
           10174,
           7594,
           929,
           974,
           6586,
           9212,
           2501,
           2830,
           68171,
           58308,
           7879,
           15788,
           16687,
           16228,
           2479,
           1177,
           46259,
           29353,
           2155,
           2802,
           1749,
           3453,
           12897,
           8182,
           1373,
           1768,
           1438,
           10310,
           7931,
           23467,
           17777,
           29162,
           17222,
           53587,
           37008,
           1068,
           2445,
           4930,
           5190,
           6866,
           10691,
           12115,
           21977,
           1096,
           1513,
           6377,
           4734,
           12088,
           3846,
           1562,
           16540,
           15096,
           18896,
           19479,
           35289,
           4071,
           4293,
           5839,
           1652,
           27975,
           24100,
           24262,
           13916,
           16445,
           12773,
           2310,
           1400,
           8868,
           1014,
           1398,
           18130,
           8852,
           6096,
           4044,
           13664,
           10863,
           2028,
           1175,
           28424,
           8871,
           4896,
           368,
           901,
           1313,
           1428,
           15755,
           11343,
           39792,
           34929,
           4812,
           3478,
           4185,
           4015,
           3200,
           2095,
           7051,
           8621,
           25296,
           25718,
           14552,
           3255,
           3210,
           5569,
           4942,
           4438,
           4249,
           1219,
           1021,
           5799,
           15865,
           38835,
           26631,
           22634,
           2148,
           3165,
           9177,
           7229,
           16714,
           9326,
           1735,
           5235,
           4204,
           6353,
           2427,
           1786,
           8034,
           11879,
           5442,
           7756,
           678,
           396,
           4808,
           7977,
           24909,
           26905,
           7206,
           8285,
           2339,
           5563,
           3847,
           1069,
           19752,
           15620,
           26970,
           17580,
           58026,
           48360,
           11954,
           15784,
           6564,
           5311,
           2844,
           2977,
           9040,
           7596,
           12937,
           9936,
           21693,
           8487,
           20936.479200789552,
           28957.47648228489,
           20695.22738372205,
           11437.568995399994,
           9605.834655043687,
           25321.11167653491,
           20486.653861661027,
           19054.112411640504,
           17129.195309179428,
           40549.566439805254,
           33662.44418545036,
           13931.995048379958,
           12088.736414071816
          ]
         },
         "name": "",
         "parents": [
          "MiscTechHaveWorkedWith",
          "MiscTechWantToWorkWith",
          "MiscTechHaveWorkedWith",
          "MiscTechWantToWorkWith",
          "LanguageHaveWorkedWith",
          "LanguageWantToWorkWith",
          "WebframeHaveWorkedWith",
          "WebframeWantToWorkWith",
          "WebframeHaveWorkedWith",
          "WebframeWantToWorkWith",
          "PlatformHaveWorkedWith",
          "PlatformWantToWorkWith",
          "NEWCollabToolsHaveWorkedWith",
          "NEWCollabToolsWantToWorkWith",
          "WebframeHaveWorkedWith",
          "WebframeWantToWorkWith",
          "WebframeHaveWorkedWith",
          "WebframeWantToWorkWith",
          "ToolsTechHaveWorkedWith",
          "ToolsTechWantToWorkWith",
          "MiscTechHaveWorkedWith",
          "MiscTechWantToWorkWith",
          "LanguageHaveWorkedWith",
          "LanguageWantToWorkWith",
          "NEWCollabToolsHaveWorkedWith",
          "NEWCollabToolsWantToWorkWith",
          "LanguageHaveWorkedWith",
          "LanguageWantToWorkWith",
          "LanguageHaveWorkedWith",
          "LanguageWantToWorkWith",
          "LanguageHaveWorkedWith",
          "LanguageWantToWorkWith",
          "LanguageHaveWorkedWith",
          "LanguageWantToWorkWith",
          "LanguageHaveWorkedWith",
          "LanguageWantToWorkWith",
          "DatabaseHaveWorkedWith",
          "ToolsTechHaveWorkedWith",
          "ToolsTechWantToWorkWith",
          "LanguageHaveWorkedWith",
          "LanguageWantToWorkWith",
          "MiscTechHaveWorkedWith",
          "MiscTechWantToWorkWith",
          "DatabaseHaveWorkedWith",
          "LanguageHaveWorkedWith",
          "LanguageWantToWorkWith",
          "LanguageHaveWorkedWith",
          "LanguageWantToWorkWith",
          "LanguageHaveWorkedWith",
          "LanguageWantToWorkWith",
          "ToolsTechHaveWorkedWith",
          "ToolsTechWantToWorkWith",
          "PlatformHaveWorkedWith",
          "PlatformWantToWorkWith",
          "WebframeHaveWorkedWith",
          "WebframeWantToWorkWith",
          "ToolsTechHaveWorkedWith",
          "ToolsTechWantToWorkWith",
          "WebframeHaveWorkedWith",
          "WebframeWantToWorkWith",
          "DatabaseHaveWorkedWith",
          "NEWCollabToolsHaveWorkedWith",
          "NEWCollabToolsWantToWorkWith",
          "DatabaseHaveWorkedWith",
          "LanguageHaveWorkedWith",
          "LanguageWantToWorkWith",
          "NEWCollabToolsHaveWorkedWith",
          "NEWCollabToolsWantToWorkWith",
          "LanguageHaveWorkedWith",
          "LanguageWantToWorkWith",
          "WebframeHaveWorkedWith",
          "WebframeWantToWorkWith",
          "LanguageHaveWorkedWith",
          "LanguageWantToWorkWith",
          "WebframeHaveWorkedWith",
          "WebframeWantToWorkWith",
          "DatabaseHaveWorkedWith",
          "WebframeHaveWorkedWith",
          "WebframeWantToWorkWith",
          "ToolsTechHaveWorkedWith",
          "ToolsTechWantToWorkWith",
          "MiscTechHaveWorkedWith",
          "MiscTechWantToWorkWith",
          "WebframeHaveWorkedWith",
          "WebframeWantToWorkWith",
          "ToolsTechHaveWorkedWith",
          "ToolsTechWantToWorkWith",
          "LanguageHaveWorkedWith",
          "LanguageWantToWorkWith",
          "PlatformHaveWorkedWith",
          "PlatformWantToWorkWith",
          "LanguageHaveWorkedWith",
          "LanguageWantToWorkWith",
          "LanguageHaveWorkedWith",
          "LanguageWantToWorkWith",
          "MiscTechHaveWorkedWith",
          "MiscTechWantToWorkWith",
          "LanguageHaveWorkedWith",
          "LanguageWantToWorkWith",
          "PlatformHaveWorkedWith",
          "PlatformWantToWorkWith",
          "PlatformHaveWorkedWith",
          "PlatformWantToWorkWith",
          "DatabaseHaveWorkedWith",
          "NEWCollabToolsHaveWorkedWith",
          "NEWCollabToolsWantToWorkWith",
          "NEWCollabToolsHaveWorkedWith",
          "NEWCollabToolsWantToWorkWith",
          "LanguageHaveWorkedWith",
          "LanguageWantToWorkWith",
          "LanguageHaveWorkedWith",
          "LanguageWantToWorkWith",
          "LanguageHaveWorkedWith",
          "LanguageWantToWorkWith",
          "MiscTechHaveWorkedWith",
          "MiscTechWantToWorkWith",
          "LanguageHaveWorkedWith",
          "LanguageWantToWorkWith",
          "ToolsTechHaveWorkedWith",
          "ToolsTechWantToWorkWith",
          "LanguageHaveWorkedWith",
          "LanguageWantToWorkWith",
          "WebframeHaveWorkedWith",
          "WebframeWantToWorkWith",
          "DatabaseHaveWorkedWith",
          "LanguageHaveWorkedWith",
          "LanguageWantToWorkWith",
          "PlatformHaveWorkedWith",
          "PlatformWantToWorkWith",
          "DatabaseHaveWorkedWith",
          "DatabaseHaveWorkedWith",
          "DatabaseHaveWorkedWith",
          "NEWCollabToolsHaveWorkedWith",
          "NEWCollabToolsWantToWorkWith",
          "NEWCollabToolsHaveWorkedWith",
          "NEWCollabToolsWantToWorkWith",
          "LanguageHaveWorkedWith",
          "LanguageWantToWorkWith",
          "NEWCollabToolsHaveWorkedWith",
          "NEWCollabToolsWantToWorkWith",
          "MiscTechHaveWorkedWith",
          "MiscTechWantToWorkWith",
          "LanguageHaveWorkedWith",
          "LanguageWantToWorkWith",
          "DatabaseHaveWorkedWith",
          "PlatformHaveWorkedWith",
          "PlatformWantToWorkWith",
          "LanguageHaveWorkedWith",
          "LanguageWantToWorkWith",
          "NEWCollabToolsHaveWorkedWith",
          "NEWCollabToolsWantToWorkWith",
          "MiscTechHaveWorkedWith",
          "MiscTechWantToWorkWith",
          "LanguageHaveWorkedWith",
          "LanguageWantToWorkWith",
          "DatabaseHaveWorkedWith",
          "LanguageHaveWorkedWith",
          "LanguageWantToWorkWith",
          "ToolsTechHaveWorkedWith",
          "ToolsTechWantToWorkWith",
          "ToolsTechHaveWorkedWith",
          "ToolsTechWantToWorkWith",
          "NEWCollabToolsHaveWorkedWith",
          "NEWCollabToolsWantToWorkWith",
          "LanguageHaveWorkedWith",
          "LanguageWantToWorkWith",
          "MiscTechHaveWorkedWith",
          "MiscTechWantToWorkWith",
          "LanguageHaveWorkedWith",
          "LanguageWantToWorkWith",
          "NEWCollabToolsHaveWorkedWith",
          "NEWCollabToolsWantToWorkWith",
          "MiscTechHaveWorkedWith",
          "MiscTechWantToWorkWith",
          "WebframeHaveWorkedWith",
          "WebframeWantToWorkWith",
          "DatabaseHaveWorkedWith",
          "NEWCollabToolsHaveWorkedWith",
          "NEWCollabToolsWantToWorkWith",
          "LanguageHaveWorkedWith",
          "LanguageWantToWorkWith",
          "WebframeHaveWorkedWith",
          "WebframeWantToWorkWith",
          "NEWCollabToolsHaveWorkedWith",
          "NEWCollabToolsWantToWorkWith",
          "LanguageHaveWorkedWith",
          "LanguageWantToWorkWith",
          "LanguageHaveWorkedWith",
          "LanguageWantToWorkWith",
          "DatabaseHaveWorkedWith",
          "LanguageHaveWorkedWith",
          "LanguageWantToWorkWith",
          "WebframeHaveWorkedWith",
          "WebframeWantToWorkWith",
          "NEWCollabToolsHaveWorkedWith",
          "NEWCollabToolsWantToWorkWith",
          "WebframeHaveWorkedWith",
          "WebframeWantToWorkWith",
          "LanguageHaveWorkedWith",
          "LanguageWantToWorkWith",
          "WebframeHaveWorkedWith",
          "WebframeWantToWorkWith",
          "MiscTechHaveWorkedWith",
          "MiscTechWantToWorkWith",
          "ToolsTechHaveWorkedWith",
          "ToolsTechWantToWorkWith",
          "NEWCollabToolsHaveWorkedWith",
          "NEWCollabToolsWantToWorkWith",
          "MiscTechHaveWorkedWith",
          "MiscTechWantToWorkWith",
          "LanguageHaveWorkedWith",
          "LanguageWantToWorkWith",
          "ToolsTechHaveWorkedWith",
          "ToolsTechWantToWorkWith",
          "ToolsTechHaveWorkedWith",
          "ToolsTechWantToWorkWith",
          "LanguageHaveWorkedWith",
          "LanguageWantToWorkWith",
          "NEWCollabToolsHaveWorkedWith",
          "NEWCollabToolsWantToWorkWith",
          "NEWCollabToolsHaveWorkedWith",
          "NEWCollabToolsWantToWorkWith",
          "NEWCollabToolsHaveWorkedWith",
          "NEWCollabToolsWantToWorkWith",
          "WebframeHaveWorkedWith",
          "WebframeWantToWorkWith",
          "NEWCollabToolsHaveWorkedWith",
          "NEWCollabToolsWantToWorkWith",
          "ToolsTechHaveWorkedWith",
          "ToolsTechWantToWorkWith",
          "NEWCollabToolsHaveWorkedWith",
          "NEWCollabToolsWantToWorkWith",
          "ToolsTechHaveWorkedWith",
          "ToolsTechWantToWorkWith",
          "WebframeHaveWorkedWith",
          "WebframeWantToWorkWith",
          "",
          "",
          "",
          "",
          "",
          "",
          "",
          "",
          "",
          "",
          "",
          "",
          ""
         ],
         "type": "treemap",
         "values": [
          15310,
          13630,
          16620,
          7761,
          536,
          568,
          9918,
          4488,
          11404,
          10454,
          29138,
          26295,
          18141,
          11916,
          14471,
          11533,
          7242,
          4293,
          5607,
          5876,
          2833,
          3453,
          4632,
          3578,
          10564,
          4224,
          22385,
          14043,
          17329,
          9702,
          22984,
          17999,
          20057,
          15249,
          437,
          309,
          1873,
          982,
          1119,
          1552,
          2413,
          3491,
          1475,
          1106,
          466,
          790,
          4965,
          7018,
          1731,
          975,
          1027,
          4773,
          9495,
          8674,
          9446,
          9112,
          35644,
          37870,
          1508,
          653,
          5137,
          12955,
          4592,
          9331,
          1438,
          3374,
          4327,
          3736,
          651,
          1379,
          15010,
          11885,
          804,
          2157,
          2447,
          3989,
          11373,
          10174,
          7594,
          929,
          974,
          6586,
          9212,
          2501,
          2830,
          68171,
          58308,
          7879,
          15788,
          16687,
          16228,
          2479,
          1177,
          46259,
          29353,
          2155,
          2802,
          1749,
          3453,
          12897,
          8182,
          1373,
          1768,
          1438,
          10310,
          7931,
          23467,
          17777,
          29162,
          17222,
          53587,
          37008,
          1068,
          2445,
          4930,
          5190,
          6866,
          10691,
          12115,
          21977,
          1096,
          1513,
          6377,
          4734,
          12088,
          3846,
          1562,
          16540,
          15096,
          18896,
          19479,
          35289,
          4071,
          4293,
          5839,
          1652,
          27975,
          24100,
          24262,
          13916,
          16445,
          12773,
          2310,
          1400,
          8868,
          1014,
          1398,
          18130,
          8852,
          6096,
          4044,
          13664,
          10863,
          2028,
          1175,
          28424,
          8871,
          4896,
          368,
          901,
          1313,
          1428,
          15755,
          11343,
          39792,
          34929,
          4812,
          3478,
          4185,
          4015,
          3200,
          2095,
          7051,
          8621,
          25296,
          25718,
          14552,
          3255,
          3210,
          5569,
          4942,
          4438,
          4249,
          1219,
          1021,
          5799,
          15865,
          38835,
          26631,
          22634,
          2148,
          3165,
          9177,
          7229,
          16714,
          9326,
          1735,
          5235,
          4204,
          6353,
          2427,
          1786,
          8034,
          11879,
          5442,
          7756,
          678,
          396,
          4808,
          7977,
          24909,
          26905,
          7206,
          8285,
          2339,
          5563,
          3847,
          1069,
          19752,
          15620,
          26970,
          17580,
          58026,
          48360,
          11954,
          15784,
          6564,
          5311,
          2844,
          2977,
          9040,
          7596,
          12937,
          9936,
          21693,
          8487,
          190488,
          442560,
          364063,
          106739,
          99114,
          281205,
          195939,
          87144,
          77641,
          156924,
          167743,
          167218,
          140053
         ]
        }
       ],
       "layout": {
        "coloraxis": {
         "colorbar": {
          "title": {
           "text": "freq"
          }
         },
         "colorscale": [
          [
           0,
           "rgb(253, 253, 204)"
          ],
          [
           0.09090909090909091,
           "rgb(206, 236, 179)"
          ],
          [
           0.18181818181818182,
           "rgb(156, 219, 165)"
          ],
          [
           0.2727272727272727,
           "rgb(111, 201, 163)"
          ],
          [
           0.36363636363636365,
           "rgb(86, 177, 163)"
          ],
          [
           0.45454545454545453,
           "rgb(76, 153, 160)"
          ],
          [
           0.5454545454545454,
           "rgb(68, 130, 155)"
          ],
          [
           0.6363636363636364,
           "rgb(62, 108, 150)"
          ],
          [
           0.7272727272727273,
           "rgb(62, 82, 143)"
          ],
          [
           0.8181818181818182,
           "rgb(64, 60, 115)"
          ],
          [
           0.9090909090909091,
           "rgb(54, 43, 77)"
          ],
          [
           1,
           "rgb(39, 26, 44)"
          ]
         ]
        },
        "height": 700,
        "legend": {
         "tracegroupgap": 0
        },
        "margin": {
         "t": 60
        },
        "template": {
         "data": {
          "bar": [
           {
            "error_x": {
             "color": "#2a3f5f"
            },
            "error_y": {
             "color": "#2a3f5f"
            },
            "marker": {
             "line": {
              "color": "#E5ECF6",
              "width": 0.5
             },
             "pattern": {
              "fillmode": "overlay",
              "size": 10,
              "solidity": 0.2
             }
            },
            "type": "bar"
           }
          ],
          "barpolar": [
           {
            "marker": {
             "line": {
              "color": "#E5ECF6",
              "width": 0.5
             },
             "pattern": {
              "fillmode": "overlay",
              "size": 10,
              "solidity": 0.2
             }
            },
            "type": "barpolar"
           }
          ],
          "carpet": [
           {
            "aaxis": {
             "endlinecolor": "#2a3f5f",
             "gridcolor": "white",
             "linecolor": "white",
             "minorgridcolor": "white",
             "startlinecolor": "#2a3f5f"
            },
            "baxis": {
             "endlinecolor": "#2a3f5f",
             "gridcolor": "white",
             "linecolor": "white",
             "minorgridcolor": "white",
             "startlinecolor": "#2a3f5f"
            },
            "type": "carpet"
           }
          ],
          "choropleth": [
           {
            "colorbar": {
             "outlinewidth": 0,
             "ticks": ""
            },
            "type": "choropleth"
           }
          ],
          "contour": [
           {
            "colorbar": {
             "outlinewidth": 0,
             "ticks": ""
            },
            "colorscale": [
             [
              0,
              "#0d0887"
             ],
             [
              0.1111111111111111,
              "#46039f"
             ],
             [
              0.2222222222222222,
              "#7201a8"
             ],
             [
              0.3333333333333333,
              "#9c179e"
             ],
             [
              0.4444444444444444,
              "#bd3786"
             ],
             [
              0.5555555555555556,
              "#d8576b"
             ],
             [
              0.6666666666666666,
              "#ed7953"
             ],
             [
              0.7777777777777778,
              "#fb9f3a"
             ],
             [
              0.8888888888888888,
              "#fdca26"
             ],
             [
              1,
              "#f0f921"
             ]
            ],
            "type": "contour"
           }
          ],
          "contourcarpet": [
           {
            "colorbar": {
             "outlinewidth": 0,
             "ticks": ""
            },
            "type": "contourcarpet"
           }
          ],
          "heatmap": [
           {
            "colorbar": {
             "outlinewidth": 0,
             "ticks": ""
            },
            "colorscale": [
             [
              0,
              "#0d0887"
             ],
             [
              0.1111111111111111,
              "#46039f"
             ],
             [
              0.2222222222222222,
              "#7201a8"
             ],
             [
              0.3333333333333333,
              "#9c179e"
             ],
             [
              0.4444444444444444,
              "#bd3786"
             ],
             [
              0.5555555555555556,
              "#d8576b"
             ],
             [
              0.6666666666666666,
              "#ed7953"
             ],
             [
              0.7777777777777778,
              "#fb9f3a"
             ],
             [
              0.8888888888888888,
              "#fdca26"
             ],
             [
              1,
              "#f0f921"
             ]
            ],
            "type": "heatmap"
           }
          ],
          "heatmapgl": [
           {
            "colorbar": {
             "outlinewidth": 0,
             "ticks": ""
            },
            "colorscale": [
             [
              0,
              "#0d0887"
             ],
             [
              0.1111111111111111,
              "#46039f"
             ],
             [
              0.2222222222222222,
              "#7201a8"
             ],
             [
              0.3333333333333333,
              "#9c179e"
             ],
             [
              0.4444444444444444,
              "#bd3786"
             ],
             [
              0.5555555555555556,
              "#d8576b"
             ],
             [
              0.6666666666666666,
              "#ed7953"
             ],
             [
              0.7777777777777778,
              "#fb9f3a"
             ],
             [
              0.8888888888888888,
              "#fdca26"
             ],
             [
              1,
              "#f0f921"
             ]
            ],
            "type": "heatmapgl"
           }
          ],
          "histogram": [
           {
            "marker": {
             "pattern": {
              "fillmode": "overlay",
              "size": 10,
              "solidity": 0.2
             }
            },
            "type": "histogram"
           }
          ],
          "histogram2d": [
           {
            "colorbar": {
             "outlinewidth": 0,
             "ticks": ""
            },
            "colorscale": [
             [
              0,
              "#0d0887"
             ],
             [
              0.1111111111111111,
              "#46039f"
             ],
             [
              0.2222222222222222,
              "#7201a8"
             ],
             [
              0.3333333333333333,
              "#9c179e"
             ],
             [
              0.4444444444444444,
              "#bd3786"
             ],
             [
              0.5555555555555556,
              "#d8576b"
             ],
             [
              0.6666666666666666,
              "#ed7953"
             ],
             [
              0.7777777777777778,
              "#fb9f3a"
             ],
             [
              0.8888888888888888,
              "#fdca26"
             ],
             [
              1,
              "#f0f921"
             ]
            ],
            "type": "histogram2d"
           }
          ],
          "histogram2dcontour": [
           {
            "colorbar": {
             "outlinewidth": 0,
             "ticks": ""
            },
            "colorscale": [
             [
              0,
              "#0d0887"
             ],
             [
              0.1111111111111111,
              "#46039f"
             ],
             [
              0.2222222222222222,
              "#7201a8"
             ],
             [
              0.3333333333333333,
              "#9c179e"
             ],
             [
              0.4444444444444444,
              "#bd3786"
             ],
             [
              0.5555555555555556,
              "#d8576b"
             ],
             [
              0.6666666666666666,
              "#ed7953"
             ],
             [
              0.7777777777777778,
              "#fb9f3a"
             ],
             [
              0.8888888888888888,
              "#fdca26"
             ],
             [
              1,
              "#f0f921"
             ]
            ],
            "type": "histogram2dcontour"
           }
          ],
          "mesh3d": [
           {
            "colorbar": {
             "outlinewidth": 0,
             "ticks": ""
            },
            "type": "mesh3d"
           }
          ],
          "parcoords": [
           {
            "line": {
             "colorbar": {
              "outlinewidth": 0,
              "ticks": ""
             }
            },
            "type": "parcoords"
           }
          ],
          "pie": [
           {
            "automargin": true,
            "type": "pie"
           }
          ],
          "scatter": [
           {
            "fillpattern": {
             "fillmode": "overlay",
             "size": 10,
             "solidity": 0.2
            },
            "type": "scatter"
           }
          ],
          "scatter3d": [
           {
            "line": {
             "colorbar": {
              "outlinewidth": 0,
              "ticks": ""
             }
            },
            "marker": {
             "colorbar": {
              "outlinewidth": 0,
              "ticks": ""
             }
            },
            "type": "scatter3d"
           }
          ],
          "scattercarpet": [
           {
            "marker": {
             "colorbar": {
              "outlinewidth": 0,
              "ticks": ""
             }
            },
            "type": "scattercarpet"
           }
          ],
          "scattergeo": [
           {
            "marker": {
             "colorbar": {
              "outlinewidth": 0,
              "ticks": ""
             }
            },
            "type": "scattergeo"
           }
          ],
          "scattergl": [
           {
            "marker": {
             "colorbar": {
              "outlinewidth": 0,
              "ticks": ""
             }
            },
            "type": "scattergl"
           }
          ],
          "scattermapbox": [
           {
            "marker": {
             "colorbar": {
              "outlinewidth": 0,
              "ticks": ""
             }
            },
            "type": "scattermapbox"
           }
          ],
          "scatterpolar": [
           {
            "marker": {
             "colorbar": {
              "outlinewidth": 0,
              "ticks": ""
             }
            },
            "type": "scatterpolar"
           }
          ],
          "scatterpolargl": [
           {
            "marker": {
             "colorbar": {
              "outlinewidth": 0,
              "ticks": ""
             }
            },
            "type": "scatterpolargl"
           }
          ],
          "scatterternary": [
           {
            "marker": {
             "colorbar": {
              "outlinewidth": 0,
              "ticks": ""
             }
            },
            "type": "scatterternary"
           }
          ],
          "surface": [
           {
            "colorbar": {
             "outlinewidth": 0,
             "ticks": ""
            },
            "colorscale": [
             [
              0,
              "#0d0887"
             ],
             [
              0.1111111111111111,
              "#46039f"
             ],
             [
              0.2222222222222222,
              "#7201a8"
             ],
             [
              0.3333333333333333,
              "#9c179e"
             ],
             [
              0.4444444444444444,
              "#bd3786"
             ],
             [
              0.5555555555555556,
              "#d8576b"
             ],
             [
              0.6666666666666666,
              "#ed7953"
             ],
             [
              0.7777777777777778,
              "#fb9f3a"
             ],
             [
              0.8888888888888888,
              "#fdca26"
             ],
             [
              1,
              "#f0f921"
             ]
            ],
            "type": "surface"
           }
          ],
          "table": [
           {
            "cells": {
             "fill": {
              "color": "#EBF0F8"
             },
             "line": {
              "color": "white"
             }
            },
            "header": {
             "fill": {
              "color": "#C8D4E3"
             },
             "line": {
              "color": "white"
             }
            },
            "type": "table"
           }
          ]
         },
         "layout": {
          "annotationdefaults": {
           "arrowcolor": "#2a3f5f",
           "arrowhead": 0,
           "arrowwidth": 1
          },
          "autotypenumbers": "strict",
          "coloraxis": {
           "colorbar": {
            "outlinewidth": 0,
            "ticks": ""
           }
          },
          "colorscale": {
           "diverging": [
            [
             0,
             "#8e0152"
            ],
            [
             0.1,
             "#c51b7d"
            ],
            [
             0.2,
             "#de77ae"
            ],
            [
             0.3,
             "#f1b6da"
            ],
            [
             0.4,
             "#fde0ef"
            ],
            [
             0.5,
             "#f7f7f7"
            ],
            [
             0.6,
             "#e6f5d0"
            ],
            [
             0.7,
             "#b8e186"
            ],
            [
             0.8,
             "#7fbc41"
            ],
            [
             0.9,
             "#4d9221"
            ],
            [
             1,
             "#276419"
            ]
           ],
           "sequential": [
            [
             0,
             "#0d0887"
            ],
            [
             0.1111111111111111,
             "#46039f"
            ],
            [
             0.2222222222222222,
             "#7201a8"
            ],
            [
             0.3333333333333333,
             "#9c179e"
            ],
            [
             0.4444444444444444,
             "#bd3786"
            ],
            [
             0.5555555555555556,
             "#d8576b"
            ],
            [
             0.6666666666666666,
             "#ed7953"
            ],
            [
             0.7777777777777778,
             "#fb9f3a"
            ],
            [
             0.8888888888888888,
             "#fdca26"
            ],
            [
             1,
             "#f0f921"
            ]
           ],
           "sequentialminus": [
            [
             0,
             "#0d0887"
            ],
            [
             0.1111111111111111,
             "#46039f"
            ],
            [
             0.2222222222222222,
             "#7201a8"
            ],
            [
             0.3333333333333333,
             "#9c179e"
            ],
            [
             0.4444444444444444,
             "#bd3786"
            ],
            [
             0.5555555555555556,
             "#d8576b"
            ],
            [
             0.6666666666666666,
             "#ed7953"
            ],
            [
             0.7777777777777778,
             "#fb9f3a"
            ],
            [
             0.8888888888888888,
             "#fdca26"
            ],
            [
             1,
             "#f0f921"
            ]
           ]
          },
          "colorway": [
           "#636efa",
           "#EF553B",
           "#00cc96",
           "#ab63fa",
           "#FFA15A",
           "#19d3f3",
           "#FF6692",
           "#B6E880",
           "#FF97FF",
           "#FECB52"
          ],
          "font": {
           "color": "#2a3f5f"
          },
          "geo": {
           "bgcolor": "white",
           "lakecolor": "white",
           "landcolor": "#E5ECF6",
           "showlakes": true,
           "showland": true,
           "subunitcolor": "white"
          },
          "hoverlabel": {
           "align": "left"
          },
          "hovermode": "closest",
          "mapbox": {
           "style": "light"
          },
          "paper_bgcolor": "white",
          "plot_bgcolor": "#E5ECF6",
          "polar": {
           "angularaxis": {
            "gridcolor": "white",
            "linecolor": "white",
            "ticks": ""
           },
           "bgcolor": "#E5ECF6",
           "radialaxis": {
            "gridcolor": "white",
            "linecolor": "white",
            "ticks": ""
           }
          },
          "scene": {
           "xaxis": {
            "backgroundcolor": "#E5ECF6",
            "gridcolor": "white",
            "gridwidth": 2,
            "linecolor": "white",
            "showbackground": true,
            "ticks": "",
            "zerolinecolor": "white"
           },
           "yaxis": {
            "backgroundcolor": "#E5ECF6",
            "gridcolor": "white",
            "gridwidth": 2,
            "linecolor": "white",
            "showbackground": true,
            "ticks": "",
            "zerolinecolor": "white"
           },
           "zaxis": {
            "backgroundcolor": "#E5ECF6",
            "gridcolor": "white",
            "gridwidth": 2,
            "linecolor": "white",
            "showbackground": true,
            "ticks": "",
            "zerolinecolor": "white"
           }
          },
          "shapedefaults": {
           "line": {
            "color": "#2a3f5f"
           }
          },
          "ternary": {
           "aaxis": {
            "gridcolor": "white",
            "linecolor": "white",
            "ticks": ""
           },
           "baxis": {
            "gridcolor": "white",
            "linecolor": "white",
            "ticks": ""
           },
           "bgcolor": "#E5ECF6",
           "caxis": {
            "gridcolor": "white",
            "linecolor": "white",
            "ticks": ""
           }
          },
          "title": {
           "x": 0.05
          },
          "xaxis": {
           "automargin": true,
           "gridcolor": "white",
           "linecolor": "white",
           "ticks": "",
           "title": {
            "standoff": 15
           },
           "zerolinecolor": "white",
           "zerolinewidth": 2
          },
          "yaxis": {
           "automargin": true,
           "gridcolor": "white",
           "linecolor": "white",
           "ticks": "",
           "title": {
            "standoff": 15
           },
           "zerolinecolor": "white",
           "zerolinewidth": 2
          }
         }
        },
        "width": 1400
       }
      }
     },
     "metadata": {},
     "output_type": "display_data"
    }
   ],
   "source": [
    "fig = px.treemap(skills_freq , \n",
    "                 path= ['group', 'skill'],\n",
    "                 color_continuous_scale= 'deep', \n",
    "                 values = 'freq' , color = 'freq')\n",
    "fig.update_layout(width = 1400 , height = 700 )\n",
    "fig.show()\n",
    "fig.write_html(os.path.join(FIG_DIR , 'treemap_skills_freq.html'))"
   ]
  },
  {
   "cell_type": "markdown",
   "metadata": {},
   "source": [
    "- `here from this treemap we can see that the most popular skills are in the data science field`"
   ]
  },
  {
   "cell_type": "markdown",
   "metadata": {},
   "source": [
    "- `It's dynamic tree map we can interact with it and to know more about the skills by click to the treemap` "
   ]
  },
  {
   "cell_type": "markdown",
   "metadata": {},
   "source": [
    "--------"
   ]
  },
  {
   "cell_type": "markdown",
   "metadata": {},
   "source": [
    "## Create Jobs & Skills Heatmap"
   ]
  },
  {
   "cell_type": "code",
   "execution_count": null,
   "metadata": {},
   "outputs": [],
   "source": []
  }
 ],
 "metadata": {
  "kernelspec": {
   "display_name": "base",
   "language": "python",
   "name": "python3"
  },
  "language_info": {
   "codemirror_mode": {
    "name": "ipython",
    "version": 3
   },
   "file_extension": ".py",
   "mimetype": "text/x-python",
   "name": "python",
   "nbconvert_exporter": "python",
   "pygments_lexer": "ipython3",
   "version": "3.9.13"
  }
 },
 "nbformat": 4,
 "nbformat_minor": 2
}
