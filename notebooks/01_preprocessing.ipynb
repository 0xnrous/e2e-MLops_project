{
 "cells": [
  {
   "cell_type": "markdown",
   "metadata": {},
   "source": [
    "# **Data Preprocessing**"
   ]
  },
  {
   "cell_type": "code",
   "execution_count": 1,
   "metadata": {},
   "outputs": [],
   "source": [
    "# Constants\n",
    "DATA_PATH = \"../data/raw/survey_results_public.csv\"\n",
    "EXPORT_PATH = \"../data/processed/1_preprocessed_df.pkl\"\n",
    "\n",
    "REPLACE_DICT = {\n",
    "    \"YearsCode\": {\"Less than 1 year\": 0, \"More than 50 years\": 51},\n",
    "    \"YearsCodePro\":{'Less than 1 year':0 , \"More than 50 years\":51}\n",
    "}"
   ]
  },
  {
   "cell_type": "code",
   "execution_count": 2,
   "metadata": {},
   "outputs": [],
   "source": [
    "# Load Packages\n",
    "import pandas as pd \n",
    "import numpy as np \n",
    "import logging\n",
    "import pickle"
   ]
  },
  {
   "cell_type": "markdown",
   "metadata": {},
   "source": [
    "## **Functions**"
   ]
  },
  {
   "cell_type": "code",
   "execution_count": 3,
   "metadata": {},
   "outputs": [],
   "source": [
    "def split_answers(data_series , delimiter = ';'):\n",
    "    # we will return pd.Series if colummns contain answers have ;\n",
    "    \n",
    "    # Sub functions - splittable function \n",
    "    def is_splittable(pd_series , delimiter):\n",
    "        \"\"\" Here we will check if mulitple should be splitted - return boolen (True - False)\"\"\"\n",
    "        return pd_series.str.contains(delimiter)\n",
    "    \n",
    "    # Function for single functions \n",
    "    def split_answer(pd_series , delimiter):\n",
    "        return pd_series.str.split(delimiter)\n",
    "    \n",
    "    # Checking if mulitple answers Exist - if none : return normal answer or Split each value to list \n",
    "    splittable_values = is_splittable(data_series , delimiter)\n",
    "    if not splittable_values.any():\n",
    "        return data_series\n",
    "    modified_series = split_answer(data_series , delimiter)\n",
    "    \n",
    "    # Replace NAs with eampty list \n",
    "    mask_null = modified_series.isnull()\n",
    "    modified_series.loc[mask_null] = modified_series.loc[mask_null].apply(lambda x : [])\n",
    "    \n",
    "    return modified_series\n",
    "        "
   ]
  },
  {
   "cell_type": "markdown",
   "metadata": {},
   "source": [
    "# **Processing**"
   ]
  },
  {
   "cell_type": "markdown",
   "metadata": {},
   "source": [
    "## Processing Data - Main"
   ]
  },
  {
   "cell_type": "code",
   "execution_count": 4,
   "metadata": {},
   "outputs": [],
   "source": [
    "raw_df = pd.read_csv(DATA_PATH)\n",
    "df = raw_df.copy()"
   ]
  },
  {
   "cell_type": "markdown",
   "metadata": {},
   "source": [
    "### 1.  Replace Values and parse"
   ]
  },
  {
   "cell_type": "code",
   "execution_count": 5,
   "metadata": {},
   "outputs": [],
   "source": [
    "for col , replacement in REPLACE_DICT.items():\n",
    "    df[col] = df[col].replace(replacement).astype(np.float32)"
   ]
  },
  {
   "cell_type": "markdown",
   "metadata": {},
   "source": [
    "### 2. Split Multiple Answers"
   ]
  },
  {
   "cell_type": "code",
   "execution_count": 6,
   "metadata": {},
   "outputs": [],
   "source": [
    "object_col = df.select_dtypes(include='object').columns.tolist()\n",
    "for col in object_col:\n",
    "    df[col] = split_answers(df[col])"
   ]
  },
  {
   "cell_type": "markdown",
   "metadata": {},
   "source": [
    "---------------------------------------"
   ]
  },
  {
   "cell_type": "markdown",
   "metadata": {},
   "source": [
    "## Testing & Visually verify results"
   ]
  },
  {
   "cell_type": "code",
   "execution_count": 23,
   "metadata": {},
   "outputs": [
    {
     "name": "stdout",
     "output_type": "stream",
     "text": [
      "Original Data of (LanguageHaveWorkedWith): \n",
      "Bash/Shell;HTML/CSS;Java;JavaScript;Kotlin;Node.js;PHP;Python;SQL;TypeScript\n",
      "----------------------\n",
      "proceed Data of (LanguageHaveWorkedWith): \n",
      "['Bash/Shell', 'HTML/CSS', 'Java', 'JavaScript', 'Kotlin', 'Node.js', 'PHP', 'Python', 'SQL', 'TypeScript']\n"
     ]
    }
   ],
   "source": [
    "i = df.sample(1).index[0]\n",
    "print(\"Original Data of (LanguageHaveWorkedWith): \")\n",
    "#print(\"---------------------\")\n",
    "print(raw_df['LanguageHaveWorkedWith'].iloc[i])\n",
    "print(\"----------------------\")\n",
    "print('proceed Data of (LanguageHaveWorkedWith): ')\n",
    "#print(\"---------------------\")\n",
    "print(df['LanguageHaveWorkedWith'].iloc[i])"
   ]
  },
  {
   "cell_type": "code",
   "execution_count": 27,
   "metadata": {},
   "outputs": [
    {
     "name": "stdout",
     "output_type": "stream",
     "text": [
      "Original Data of (DevType): \n",
      "Developer, full-stack;Developer, QA or test;Developer, game or graphics\n",
      "----------------------------\n",
      "Proceed Data of (DevType): \n",
      "['Developer, full-stack', 'Developer, QA or test', 'Developer, game or graphics']\n"
     ]
    }
   ],
   "source": [
    "d = df.sample(1).index[0]\n",
    "print('Original Data of (DevType): ')\n",
    "print (raw_df['DevType'].iloc[d])\n",
    "print(\"----------------------------\")\n",
    "print(\"Proceed Data of (DevType): \")\n",
    "print(df['DevType'].iloc[d])"
   ]
  },
  {
   "cell_type": "code",
   "execution_count": 56,
   "metadata": {},
   "outputs": [
    {
     "name": "stdout",
     "output_type": "stream",
     "text": [
      "Original Data of (YearsCodePro): \n",
      "2\n",
      "----------------------------\n",
      "Proceed Data of (YearsCodePro): \n",
      "2.0\n"
     ]
    }
   ],
   "source": [
    "y = df.sample(1).index[0]\n",
    "print('Original Data of (YearsCodePro): ')\n",
    "print(raw_df['YearsCodePro'].iloc[y])\n",
    "print(\"----------------------------\")\n",
    "print(\"Proceed Data of (YearsCodePro): \")\n",
    "print(df['YearsCodePro'].iloc[y])"
   ]
  },
  {
   "cell_type": "markdown",
   "metadata": {},
   "source": [
    "# **EXPORT DATA**"
   ]
  },
  {
   "cell_type": "code",
   "execution_count": 57,
   "metadata": {},
   "outputs": [],
   "source": [
    "# We will export it as pickle file to directory we specify \n",
    "df.to_pickle(EXPORT_PATH)"
   ]
  }
 ],
 "metadata": {
  "kernelspec": {
   "display_name": "base",
   "language": "python",
   "name": "python3"
  },
  "language_info": {
   "codemirror_mode": {
    "name": "ipython",
    "version": 3
   },
   "file_extension": ".py",
   "mimetype": "text/x-python",
   "name": "python",
   "nbconvert_exporter": "python",
   "pygments_lexer": "ipython3",
   "version": "3.9.13"
  }
 },
 "nbformat": 4,
 "nbformat_minor": 2
}
